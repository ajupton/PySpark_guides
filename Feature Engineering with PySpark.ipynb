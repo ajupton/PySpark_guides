{
 "cells": [
  {
   "cell_type": "markdown",
   "metadata": {},
   "source": [
    "# Feature Engineering with PySpark\n",
    "\n",
    "This notebook is a learning and reference guide on the use of PySpark and Spark SQL for data manipulation and pre-processing for statistical modeling and machine learning applications. Many functions are read in at the outset (see the next code chunk) but I do often import functions as they are first used. \n",
    "\n",
    "The dataset used is downloaded from a weblink, so once you get Spark up and running, this guide should be self contained. \n",
    "\n",
    "Note: this guide was made for practicing operations in PySpark and Spark SQL. It was made on a local machine with no additional nodes using a dataset that is small enough to fit in memory of a standard laptop. \n",
    "\n",
    "It's always good to reference the docs too, [here are the Spark MLib docs for the version of Spark used in this guide](https://spark.apache.org/docs/2.4.0/ml-guide.html)."
   ]
  },
  {
   "cell_type": "code",
   "execution_count": 14,
   "metadata": {},
   "outputs": [
    {
     "name": "stdout",
     "output_type": "stream",
     "text": [
      "<pyspark.sql.session.SparkSession object at 0x109ddabe0>\n"
     ]
    }
   ],
   "source": [
    "# Setting up spark\n",
    "import findspark\n",
    "findspark.init()\n",
    "from pyspark import SparkConf, SparkContext\n",
    "from pyspark.sql import SparkSession\n",
    "from pyspark.sql import *\n",
    "from pyspark.sql.functions import *\n",
    "conf = SparkConf().setMaster(\"local\").setAppName(\"PySpark_feature_engineering\")\n",
    "spark = SparkSession.builder.getOrCreate()\n",
    "print(spark)"
   ]
  },
  {
   "cell_type": "code",
   "execution_count": 15,
   "metadata": {},
   "outputs": [],
   "source": [
    "# Set sqlContext from the Spark context\n",
    "from pyspark.sql import SQLContext\n",
    "sqlContext = SQLContext(spark)"
   ]
  },
  {
   "cell_type": "code",
   "execution_count": 16,
   "metadata": {},
   "outputs": [
    {
     "name": "stdout",
     "output_type": "stream",
     "text": [
      "2.4.0\n"
     ]
    }
   ],
   "source": [
    "# Check Spark Version - it changes fast!\n",
    "# Be very careful when referencing Stack Overflow Q's/A's from older versions of Spark/PySpark/PySpark SQL\n",
    "print(spark.version)"
   ]
  },
  {
   "cell_type": "code",
   "execution_count": 17,
   "metadata": {},
   "outputs": [
    {
     "data": {
      "text/plain": [
       "'3.6.5 |Anaconda custom (64-bit)| (default, Apr 26 2018, 08:42:37) \\n[GCC 4.2.1 Compatible Clang 4.0.1 (tags/RELEASE_401/final)]'"
      ]
     },
     "execution_count": 17,
     "metadata": {},
     "output_type": "execute_result"
    }
   ],
   "source": [
    "# Check Python version\n",
    "import sys\n",
    "sys.version"
   ]
  },
  {
   "cell_type": "code",
   "execution_count": 25,
   "metadata": {},
   "outputs": [],
   "source": [
    "# Suppress some warnings (if desired)\n",
    "#import warnings\n",
    "#warnings.filterwarnings('ignore')"
   ]
  },
  {
   "cell_type": "markdown",
   "metadata": {},
   "source": [
    "## Read in some data\n",
    "Here I'll be working through and expanding upon the course \"Feature Engineering with Pyspark\" by [John Hogue](https://www.linkedin.com/in/johnhogue/), Lead Data Scientist at General Mills. The notebook considers feature engineering for the purpose of predicting the sale price on a subset of residential homes sold in 2017 in the city of St. Paul, MN. We'll download the data using pandas before converting it in to Spark. I do it this way for ease but at the cost of schema - Spark requires more attention to the type of individual columns and how missing values are handled. It isn't quite as versatile as pandas is in inferring data types from the data itself and literally can't handle having more than one data type in a single column. There is a built in method to attempt to infer a schema for the data types when none is provided, which we'll try out after converting all values in the pandas dataframe to strings. "
   ]
  },
  {
   "cell_type": "code",
   "execution_count": 19,
   "metadata": {},
   "outputs": [],
   "source": [
    "import pandas as pd"
   ]
  },
  {
   "cell_type": "code",
   "execution_count": 27,
   "metadata": {},
   "outputs": [],
   "source": [
    "# Download data into a pandas dataframe \n",
    "review_df = pd.read_csv('https://assets.datacamp.com/production/repositories/1704/datasets/d26c25f46746882d0a0f474cc6709c629f69872c/2017_StPaul_MN_Real_Estate.csv')\n"
   ]
  },
  {
   "cell_type": "code",
   "execution_count": 28,
   "metadata": {},
   "outputs": [],
   "source": [
    "# Quickly run through the columns and change to strings to avoid the\n",
    "# presence of different data types within columns - Spark complains if there are\n",
    "o_type = review_df['MLSID'].dtypes\n",
    "for column in review_df.columns:\n",
    "    if review_df[column].dtype == o_type:\n",
    "        review_df[column] = review_df[column].astype('str') "
   ]
  },
  {
   "cell_type": "code",
   "execution_count": 29,
   "metadata": {},
   "outputs": [],
   "source": [
    "review_df['streetaddress'] = review_df['streetaddress'].astype('str')\n",
    "#review_df.dtypes # check your data types if desired"
   ]
  },
  {
   "cell_type": "code",
   "execution_count": 30,
   "metadata": {},
   "outputs": [],
   "source": [
    "# Setup a Spark SQL context and read in the pandas dataframe to a Spark dataframe\n",
    "spark.conf.set(\"spark.sql.execution.arrow.enabled\", \"true\")\n",
    "\n",
    "df = sqlContext.createDataFrame(review_df)"
   ]
  },
  {
   "cell_type": "code",
   "execution_count": 31,
   "metadata": {},
   "outputs": [],
   "source": [
    "# Need to convert some data types (since they were all converted to strings in the pandas df)\n",
    "data_types = \\\n",
    "[('NO', 'bigint'),\n",
    " ('MLSID', 'string'),\n",
    " ('STREETNUMBERNUMERIC', 'bigint'),\n",
    " ('STREETADDRESS', 'string'),\n",
    " ('STREETNAME', 'string'),\n",
    " ('POSTALCODE', 'bigint'),\n",
    " ('STATEORPROVINCE', 'string'),\n",
    " ('CITY', 'string'),\n",
    " ('SALESCLOSEPRICE', 'bigint'),\n",
    " ('LISTDATE', 'timestamp'),\n",
    " ('LISTPRICE', 'bigint'),\n",
    " ('LISTTYPE', 'string'),\n",
    " ('ORIGINALLISTPRICE', 'bigint'),\n",
    " ('PRICEPERTSFT', 'double'),\n",
    " ('FOUNDATIONSIZE', 'bigint'),\n",
    " ('FENCE', 'string'),\n",
    " ('MAPLETTER', 'string'),\n",
    " ('LOTSIZEDIMENSIONS', 'string'),\n",
    " ('SCHOOLDISTRICTNUMBER', 'string'),\n",
    " ('DAYSONMARKET', 'bigint'),\n",
    " ('OFFMARKETDATE', 'timestamp'), # some columns are time-based values\n",
    " ('FIREPLACES', 'bigint'),\n",
    " ('ROOMAREA4', 'string'),\n",
    " ('ROOMTYPE', 'string'),\n",
    " ('ROOF', 'string'),\n",
    " ('ROOMFLOOR4', 'string'),\n",
    " ('POTENTIALSHORTSALE', 'string'),\n",
    " ('POOLDESCRIPTION', 'string'),\n",
    " ('PDOM', 'double'),\n",
    " ('GARAGEDESCRIPTION', 'string'),\n",
    " ('SQFTABOVEGROUND', 'bigint'),\n",
    " ('TAXES', 'bigint'),\n",
    " ('ROOMFLOOR1', 'string'),\n",
    " ('ROOMAREA1', 'string'),\n",
    " ('TAXWITHASSESSMENTS', 'double'),\n",
    " ('TAXYEAR', 'bigint'),\n",
    " ('LIVINGAREA', 'bigint'),\n",
    " ('UNITNUMBER', 'string'),\n",
    " ('YEARBUILT', 'bigint'),\n",
    " ('ZONING', 'string'),\n",
    " ('STYLE', 'string'),\n",
    " ('ACRES', 'double'),\n",
    " ('COOLINGDESCRIPTION', 'string'),\n",
    " ('APPLIANCES', 'string'),\n",
    " ('BACKONMARKETDATE', 'timestamp'),\n",
    " ('ROOMFAMILYCHAR', 'string'),\n",
    " ('ROOMAREA3', 'string'),\n",
    " ('EXTERIOR', 'string'),\n",
    " ('ROOMFLOOR3', 'string'),\n",
    " ('ROOMFLOOR2', 'string'),\n",
    " ('ROOMAREA2', 'string'),\n",
    " ('DININGROOMDESCRIPTION', 'string'),\n",
    " ('BASEMENT', 'string'),\n",
    " ('BATHSFULL', 'bigint'),\n",
    " ('BATHSHALF', 'bigint'),\n",
    " ('BATHQUARTER', 'bigint'),\n",
    " ('BATHSTHREEQUARTER', 'double'),\n",
    " ('CLASS', 'string'),\n",
    " ('BATHSTOTAL', 'bigint'),\n",
    " ('BATHDESC', 'string'),\n",
    " ('ROOMAREA5', 'string'),\n",
    " ('ROOMFLOOR5', 'string'),\n",
    " ('ROOMAREA6', 'string'),\n",
    " ('ROOMFLOOR6', 'string'),\n",
    " ('ROOMAREA7', 'string'),\n",
    " ('ROOMFLOOR7', 'string'),\n",
    " ('ROOMAREA8', 'string'),\n",
    " ('ROOMFLOOR8', 'string'),\n",
    " ('BEDROOMS', 'bigint'),\n",
    " ('SQFTBELOWGROUND', 'bigint'),\n",
    " ('ASSUMABLEMORTGAGE', 'string'),\n",
    " ('ASSOCIATIONFEE', 'bigint'),\n",
    " ('ASSESSMENTPENDING', 'string'),\n",
    " ('ASSESSEDVALUATION', 'double'),\n",
    " ('latitude', 'double'),\n",
    " ('longitude', 'double')]"
   ]
  },
  {
   "cell_type": "code",
   "execution_count": 32,
   "metadata": {},
   "outputs": [],
   "source": [
    "# Correct all the column types\n",
    "# .withColumn will be used heavily in this guide - it creates a new Spark \n",
    "# dataframe column, which can overwrite existing columns of the same name\n",
    "df = df.withColumn(\"LISTDATE\", to_timestamp(\"LISTDATE\", \"MM/dd/yyyy\"))\n",
    "df = df.withColumn(\"OFFMARKETDATE\", to_timestamp(\"OFFMARKETDATE\", \"MM/dd/yyy\"))\n",
    "df = df.withColumn(\"AssessedValuation\", df[\"AssessedValuation\"].cast(\"double\"))\n",
    "df = df.withColumn(\"AssociationFee\", df[\"AssociationFee\"].cast(\"bigint\"))\n",
    "df = df.withColumn(\"SQFTBELOWGROUND\", df[\"SQFTBELOWGROUND\"].cast(\"bigint\"))\n",
    "df = df.withColumn(\"Bedrooms\", df[\"Bedrooms\"].cast(\"bigint\"))\n",
    "df = df.withColumn(\"BATHSTOTAL\", df[\"BATHSTOTAL\"].cast(\"bigint\"))\n",
    "df = df.withColumn(\"BATHSTHREEQUARTER\", df[\"BATHSTHREEQUARTER\"].cast(\"double\"))\n",
    "df = df.withColumn(\"BATHQUARTER\", df[\"BATHQUARTER\"].cast(\"bigint\"))\n",
    "df = df.withColumn(\"BathsHalf\", df[\"BathsHalf\"].cast(\"bigint\"))\n",
    "df = df.withColumn(\"BathsFull\", df[\"BathsFull\"].cast(\"bigint\"))\n",
    "df = df.withColumn(\"backonmarketdate\", df[\"backonmarketdate\"].cast(\"double\"))\n",
    "df = df.withColumn(\"ACRES\", df[\"ACRES\"].cast(\"double\"))\n",
    "df = df.withColumn(\"YEARBUILT\", df[\"YEARBUILT\"].cast(\"bigint\"))\n",
    "df = df.withColumn(\"LivingArea\", df[\"LivingArea\"].cast(\"bigint\"))\n",
    "df = df.withColumn(\"TAXYEAR\", df[\"TAXYEAR\"].cast(\"bigint\"))\n",
    "df = df.withColumn(\"TAXWITHASSESSMENTS\", df[\"TAXWITHASSESSMENTS\"].cast(\"double\"))\n",
    "df = df.withColumn(\"Taxes\", df[\"Taxes\"].cast(\"bigint\"))\n",
    "df = df.withColumn(\"SQFTABOVEGROUND\", df[\"SQFTABOVEGROUND\"].cast(\"bigint\"))\n",
    "df = df.withColumn(\"PDOM\", df[\"PDOM\"].cast(\"bigint\"))\n",
    "df = df.withColumn(\"Fireplaces\", df[\"Fireplaces\"].cast(\"bigint\"))\n",
    "df = df.withColumn(\"FOUNDATIONSIZE\", df[\"FOUNDATIONSIZE\"].cast(\"bigint\"))\n",
    "df = df.withColumn(\"PricePerTSFT\", df[\"PricePerTSFT\"].cast(\"double\"))\n",
    "df = df.withColumn(\"OriginalListPrice\", df[\"OriginalListPrice\"].cast(\"bigint\"))\n",
    "df = df.withColumn(\"LISTPRICE\", df[\"OriginalListPrice\"].cast(\"bigint\"))\n",
    "df = df.withColumn(\"SalesClosePrice\", df[\"SalesClosePrice\"].cast(\"bigint\"))\n",
    "df = df.withColumn(\"PostalCode\", df[\"PostalCode\"].cast(\"bigint\"))\n",
    "#df = df.withColumn(\"No.\", df[\"No.\"].cast(\"bigint\"))"
   ]
  },
  {
   "cell_type": "code",
   "execution_count": 33,
   "metadata": {},
   "outputs": [],
   "source": [
    "# Drop the No. column, Spark is very unhappy with the '.' in this column name - this will be rectified later on\n",
    "df = df.drop('No.')"
   ]
  },
  {
   "cell_type": "markdown",
   "metadata": {},
   "source": [
    "## Basic Summary Stats\n",
    "\n",
    "#### Shape"
   ]
  },
  {
   "cell_type": "code",
   "execution_count": 46,
   "metadata": {},
   "outputs": [
    {
     "name": "stdout",
     "output_type": "stream",
     "text": [
      "(5000, 73)\n"
     ]
    }
   ],
   "source": [
    "# Shape - you can't just use the shape method for a Spark df, it doesn't exist as of February 2019\n",
    "# But you can:\n",
    "print((df.count(), len(df.columns)))"
   ]
  },
  {
   "cell_type": "code",
   "execution_count": 47,
   "metadata": {},
   "outputs": [
    {
     "name": "stdout",
     "output_type": "stream",
     "text": [
      "+-------+------------------+\n",
      "|summary|   SalesClosePrice|\n",
      "+-------+------------------+\n",
      "|  count|              5000|\n",
      "|   mean|       262804.4668|\n",
      "| stddev|140559.82591998548|\n",
      "|    min|             48000|\n",
      "|    max|           1700000|\n",
      "+-------+------------------+\n",
      "\n"
     ]
    }
   ],
   "source": [
    "# Describe a column\n",
    "df[['SalesClosePrice']].describe().show() # note the double bracket col indexing and \n",
    "                                          # the .show() to force Spark to run the job"
   ]
  },
  {
   "cell_type": "code",
   "execution_count": 48,
   "metadata": {},
   "outputs": [
    {
     "name": "stdout",
     "output_type": "stream",
     "text": [
      "+-------+------------------+------------------+-----------------+------------------+------------------+\n",
      "|summary|         LISTPRICE|             Taxes|  SQFTABOVEGROUND|    FOUNDATIONSIZE|        Fireplaces|\n",
      "+-------+------------------+------------------+-----------------+------------------+------------------+\n",
      "|  count|              5000|              5000|             5000|              5000|              5000|\n",
      "|   mean|       275002.6304|         3373.6548|         1489.013|         1016.4118|            0.5848|\n",
      "| stddev|409620.68253253604|36040.698280462675|626.4868033517984|339.26040521297097|0.7088790178107813|\n",
      "|    min|                 5|                 0|                1|                 1|                 0|\n",
      "|    max|          21990000|           2547070|             7200|              3792|                 8|\n",
      "+-------+------------------+------------------+-----------------+------------------+------------------+\n",
      "\n"
     ]
    }
   ],
   "source": [
    "# Or multiple columns\n",
    "df.select(['LISTPRICE', 'Taxes', 'SQFTABOVEGROUND', 'FOUNDATIONSIZE', 'Fireplaces']).describe().show() "
   ]
  },
  {
   "cell_type": "code",
   "execution_count": 49,
   "metadata": {},
   "outputs": [
    {
     "name": "stdout",
     "output_type": "stream",
     "text": [
      "1281910.384063509\n",
      "1281910.384063509\n"
     ]
    }
   ],
   "source": [
    "# Covariance \n",
    "# Covariance is a measure of how two variables change with respect to each other. \n",
    "# A positive number would mean that there is a tendency that as one variable increases, \n",
    "# the other increases as well. A negative number would mean that as one variable increases, \n",
    "# the other variable has a tendency to decrease. The sample covariance of two columns of a \n",
    "# DataFrame can be calculated as follows:\n",
    "\n",
    "print(df.cov('SalesClosePrice', 'YEARBUILT'))\n",
    "# or\n",
    "print(df.stat.cov('SalesClosePrice', 'YEARBUILT'))"
   ]
  },
  {
   "cell_type": "code",
   "execution_count": 50,
   "metadata": {},
   "outputs": [
    {
     "name": "stdout",
     "output_type": "stream",
     "text": [
      "0.23475142032506827\n",
      "0.23475142032506827\n"
     ]
    }
   ],
   "source": [
    "# Correlation is perhaps more straightforward to interpret\n",
    "# Correlation is a normalized measure of covariance that is easier to understand, \n",
    "# as it provides quantitative measurements of the statistical dependence between two random variables.\n",
    "\n",
    "print(df.corr('SalesClosePrice', 'YEARBUILT'))\n",
    "print(df.stat.corr('SalesClosePrice', 'YEARBUILT'))"
   ]
  },
  {
   "cell_type": "code",
   "execution_count": 51,
   "metadata": {},
   "outputs": [
    {
     "name": "stdout",
     "output_type": "stream",
     "text": [
      "Average sales price: $262804.4668\n",
      "Standard deviation of sales prices: $140559.82591998548\n",
      "Max sales price: $1700000\n",
      "Min sale price: $48000\n"
     ]
    }
   ],
   "source": [
    "# Perform an aggregation function\n",
    "print(\"Average sales price: ${}\".format(df.agg({'SalesClosePrice': 'mean'}).collect()[0][0]))\n",
    "print(\"Standard deviation of sales prices: ${}\".format(df.agg({'SalesClosePrice': 'stddev'}).collect()[0][0]))\n",
    "print(\"Max sales price: ${}\".format(df.agg({'SalesClosePrice': 'max'}).collect()[0][0]))\n",
    "print(\"Min sale price: ${}\".format(df.agg({'SalesClosePrice': 'min'}).collect()[0][0]))"
   ]
  },
  {
   "cell_type": "markdown",
   "metadata": {},
   "source": [
    "## Visual inspection through linear models and distribution skew"
   ]
  },
  {
   "cell_type": "code",
   "execution_count": 52,
   "metadata": {},
   "outputs": [],
   "source": [
    "# Bring in some plotting libraries\n",
    "import seaborn as sns\n",
    "import matplotlib.pyplot as plt"
   ]
  },
  {
   "cell_type": "code",
   "execution_count": 53,
   "metadata": {},
   "outputs": [],
   "source": [
    "# Sample spark df and plot \n",
    "# It's a best practice to sample data from your Spark df into pandas so as to not asplode your machine's memory\n",
    "# Remember, the idea is to use Spark for data that is too large to fit in your machine's memory\n",
    "s_df = df.select(['SalesClosePrice', 'YEARBUILT']).sample(withReplacement=False, fraction=0.5, seed=42)\n",
    "\n",
    "# Create a Pandas df from a subset of columns, those that are sampled\n",
    "s_df_pandas = s_df.toPandas() \n",
    "\n",
    "# Or the entire Spark df\n",
    "df_pandas = df.toPandas() "
   ]
  },
  {
   "cell_type": "code",
   "execution_count": 54,
   "metadata": {},
   "outputs": [
    {
     "data": {
      "text/plain": [
       "<seaborn.axisgrid.FacetGrid at 0x110f09320>"
      ]
     },
     "execution_count": 54,
     "metadata": {},
     "output_type": "execute_result"
    },
    {
     "data": {
      "image/png": "[encoded data removed]",
      "text/plain": [
       "<Figure size 360x360 with 1 Axes>"
      ]
     },
     "metadata": {
      "needs_background": "light"
     },
     "output_type": "display_data"
    }
   ],
   "source": [
    "# A basic seaborn linear model plot\n",
    "sns.lmplot(y = 'SalesClosePrice', x = 'SQFTABOVEGROUND', data=df_pandas)"
   ]
  },
  {
   "cell_type": "code",
   "execution_count": 55,
   "metadata": {},
   "outputs": [
    {
     "data": {
      "text/plain": [
       "<seaborn.axisgrid.FacetGrid at 0x1135a4b70>"
      ]
     },
     "execution_count": 55,
     "metadata": {},
     "output_type": "execute_result"
    },
    {
     "data": {
      "image/png": "[encoded data removed]",
      "text/plain": [
       "<Figure size 360x360 with 1 Axes>"
      ]
     },
     "metadata": {
      "needs_background": "light"
     },
     "output_type": "display_data"
    }
   ],
   "source": [
    "sns.lmplot(y = 'SalesClosePrice', x = 'SQFTBELOWGROUND', data=df_pandas)"
   ]
  },
  {
   "cell_type": "code",
   "execution_count": 56,
   "metadata": {},
   "outputs": [
    {
     "data": {
      "text/plain": [
       "<seaborn.axisgrid.FacetGrid at 0x11352bb70>"
      ]
     },
     "execution_count": 56,
     "metadata": {},
     "output_type": "execute_result"
    },
    {
     "data": {
      "image/png": "[encoded data removed]",
      "text/plain": [
       "<Figure size 360x360 with 1 Axes>"
      ]
     },
     "metadata": {
      "needs_background": "light"
     },
     "output_type": "display_data"
    }
   ],
   "source": [
    "sns.lmplot(y = 'SalesClosePrice', x = 'LivingArea', data=df_pandas)"
   ]
  },
  {
   "cell_type": "code",
   "execution_count": 57,
   "metadata": {},
   "outputs": [
    {
     "data": {
      "image/png": "[encoded data removed]",
      "text/plain": [
       "<Figure size 432x288 with 1 Axes>"
      ]
     },
     "metadata": {
      "needs_background": "light"
     },
     "output_type": "display_data"
    }
   ],
   "source": [
    "# Plot distribution of pandas_df features\n",
    "# Select a single column and sample and convert to pandas\n",
    "sample_df = df.select(['LISTPRICE']).sample(False, 0.5, 42)\n",
    "pandas_df = sample_df.toPandas()\n",
    "\n",
    "# Plot distribution of pandas_df and display plot\n",
    "sns.distplot(pandas_df)\n",
    "plt.xlabel('ListPrice') \n",
    "plt.show()"
   ]
  },
  {
   "cell_type": "code",
   "execution_count": 58,
   "metadata": {},
   "outputs": [
    {
     "data": {
      "image/png": "[encoded data removed]",
      "text/plain": [
       "<Figure size 432x288 with 1 Axes>"
      ]
     },
     "metadata": {
      "needs_background": "light"
     },
     "output_type": "display_data"
    }
   ],
   "source": [
    "# Plot distribution of pandas_df and display plot\n",
    "# Select a single column and sample and convert to pandas\n",
    "sample_df = df.select(['SalesClosePrice']).sample(False, 0.5, 42)\n",
    "pandas_df = sample_df.toPandas()\n",
    "\n",
    "# Plot distribution of pandas_df and display plot\n",
    "sns.distplot(pandas_df)\n",
    "plt.xlabel('SalesClosePrice') \n",
    "plt.show()"
   ]
  },
  {
   "cell_type": "code",
   "execution_count": 59,
   "metadata": {},
   "outputs": [
    {
     "name": "stdout",
     "output_type": "stream",
     "text": [
      "0.8162701823275657\n",
      "0.7901878498502953\n"
     ]
    }
   ],
   "source": [
    "print(df.corr('SalesClosePrice', 'LivingArea'))\n",
    "print(df.corr('SalesClosePrice', 'SQFTABOVEGROUND'))"
   ]
  },
  {
   "cell_type": "markdown",
   "metadata": {},
   "source": [
    "## Filtering based on values or text"
   ]
  },
  {
   "cell_type": "code",
   "execution_count": 60,
   "metadata": {},
   "outputs": [
    {
     "name": "stdout",
     "output_type": "stream",
     "text": [
      "+---------------+\n",
      "|SalesClosePrice|\n",
      "+---------------+\n",
      "|        1277023|\n",
      "|        1050000|\n",
      "|        1290000|\n",
      "|        1295000|\n",
      "|        1215000|\n",
      "|        1380000|\n",
      "|        1300000|\n",
      "|        1400000|\n",
      "|        1595000|\n",
      "|        1600000|\n",
      "+---------------+\n",
      "only showing top 10 rows\n",
      "\n"
     ]
    }
   ],
   "source": [
    "# Filter by values - expensive homes\n",
    "df.where(df['SalesClosePrice'] > 1000000)[['SalesClosePrice']].show(10) "
   ]
  },
  {
   "cell_type": "code",
   "execution_count": 61,
   "metadata": {},
   "outputs": [
    {
     "name": "stdout",
     "output_type": "stream",
     "text": [
      "+---------------+\n",
      "|SalesClosePrice|\n",
      "+---------------+\n",
      "|          90000|\n",
      "|          94900|\n",
      "|          79900|\n",
      "|          78000|\n",
      "|          99000|\n",
      "|          80000|\n",
      "|          48000|\n",
      "|          49900|\n",
      "|          80004|\n",
      "|          50800|\n",
      "+---------------+\n",
      "only showing top 10 rows\n",
      "\n"
     ]
    }
   ],
   "source": [
    "# Filter by values - cheap homes\n",
    "df.where(df['SalesClosePrice'] < 100000)[['SalesClosePrice']].show(10)"
   ]
  },
  {
   "cell_type": "code",
   "execution_count": 62,
   "metadata": {},
   "outputs": [
    {
     "name": "stdout",
     "output_type": "stream",
     "text": [
      "+-------+-----------------+\n",
      "|summary|  SalesClosePrice|\n",
      "+-------+-----------------+\n",
      "|  count|              128|\n",
      "|   mean|   220585.4921875|\n",
      "| stddev|401209.0720967758|\n",
      "|    min|            48000|\n",
      "|    max|          1700000|\n",
      "+-------+-----------------+\n",
      "\n"
     ]
    }
   ],
   "source": [
    "# Porque no los dos? (Why not both?)\n",
    "# Note that I'm using .filter() here - there is no difference b/t .where and .filter -\n",
    "# .where is provided for those who are used to the SQL implementation of WHERE, \n",
    "# while .filter is provided for the Scala familiar\n",
    "df.filter((df['SalesClosePrice'] < 100000) | \n",
    "          (df['SalesClosePrice'] > 1000000))[['SalesClosePrice']].describe().show()"
   ]
  },
  {
   "cell_type": "code",
   "execution_count": 34,
   "metadata": {},
   "outputs": [
    {
     "name": "stdout",
     "output_type": "stream",
     "text": [
      "+---------------+-------------------------------------------+\n",
      "|SalesClosePrice|                                       ROOF|\n",
      "+---------------+-------------------------------------------+\n",
      "|        1277023|                                        nan|\n",
      "|        1050000|                                        nan|\n",
      "|        1290000|                           Asphalt Shingles|\n",
      "|        1295000|Asphalt Shingles, Pitched, Age Over 8 Years|\n",
      "|        1215000|                           Asphalt Shingles|\n",
      "|        1380000|                                        nan|\n",
      "|        1300000|                           Asphalt Shingles|\n",
      "|        1400000|              Age Over 8 Years, Tile, Metal|\n",
      "|        1595000|      Asphalt Shingles, Age 8 Years or Less|\n",
      "|        1600000|                                     Shakes|\n",
      "|        1700000|                                        nan|\n",
      "|        1585000|                                      Slate|\n",
      "|        1050216|      Asphalt Shingles, Age 8 Years or Less|\n",
      "|        1077200|                                        nan|\n",
      "+---------------+-------------------------------------------+\n",
      "\n"
     ]
    }
   ],
   "source": [
    "# What if you really don't like metal roofs and have a huge budget?\n",
    "# There are some missing values here, we'll show how to deal with those below\n",
    "df.where((df['ROOF'] != 'Metal') &\n",
    "          (df['SalesClosePrice'] > 1000000))[['SalesClosePrice', 'ROOF']].show(truncate=50)"
   ]
  },
  {
   "cell_type": "code",
   "execution_count": 64,
   "metadata": {},
   "outputs": [
    {
     "data": {
      "text/plain": [
       "4909"
      ]
     },
     "execution_count": 64,
     "metadata": {},
     "output_type": "execute_result"
    }
   ],
   "source": [
    "# More value filtering, this time with aggregation functions\n",
    "std_val = df.agg({'SalesClosePrice': 'stddev'}).collect()[0][0]\n",
    "mean_val = df.agg({'SalesClosePrice': 'mean'}).collect()[0][0]\n",
    "\n",
    "# Setup values for dropping outliers that are 3 standard deviations from the mean\n",
    "hi_bound = mean_val + (3 * std_val)\n",
    "low_bound = mean_val - (3 * std_val)\n",
    "\n",
    "df.where((df['LISTPRICE'] < hi_bound) & (df['LISTPRICE'] > low_bound)).count() # Here we dropped 91 observations"
   ]
  },
  {
   "cell_type": "code",
   "execution_count": 65,
   "metadata": {},
   "outputs": [
    {
     "name": "stdout",
     "output_type": "stream",
     "text": [
      "+-------------------+\n",
      "|  ASSUMABLEMORTGAGE|\n",
      "+-------------------+\n",
      "|  Yes w/ Qualifying|\n",
      "| Information Coming|\n",
      "|                nan|\n",
      "|Yes w/No Qualifying|\n",
      "|      Not Assumable|\n",
      "+-------------------+\n",
      "\n",
      "None\n"
     ]
    },
    {
     "data": {
      "text/plain": [
       "4976"
      ]
     },
     "execution_count": 65,
     "metadata": {},
     "output_type": "execute_result"
    }
   ],
   "source": [
    "# Filter based on text \n",
    "\n",
    "# Inspect unique values in the column 'ASSUMABLEMORTGAGE'\n",
    "print(df.select(['ASSUMABLEMORTGAGE']).distinct().show())\n",
    "\n",
    "# List of possible values containing 'yes'\n",
    "yes_values = ['Yes w/ Qualifying', 'Yes w/No Qualifying']\n",
    "\n",
    "# Filter the text values out of df but keep null values (good use of that ~ here)\n",
    "text_filter = ~df['ASSUMABLEMORTGAGE'].isin(yes_values) | df['ASSUMABLEMORTGAGE'].isNull()\n",
    "df.where(text_filter).count()"
   ]
  },
  {
   "cell_type": "code",
   "execution_count": 66,
   "metadata": {},
   "outputs": [
    {
     "name": "stdout",
     "output_type": "stream",
     "text": [
      "+------------------+\n",
      "|CoolingDescription|\n",
      "+------------------+\n",
      "|            Window|\n",
      "|              None|\n",
      "|              None|\n",
      "|       Geothermal |\n",
      "|              None|\n",
      "+------------------+\n",
      "only showing top 5 rows\n",
      "\n"
     ]
    }
   ],
   "source": [
    "# Text filtering - where the cooling description is NOT (via the ~) central air\n",
    "df.where(~df['CoolingDescription'].like('Central'))[['CoolingDescription']].show(5)"
   ]
  },
  {
   "cell_type": "markdown",
   "metadata": {},
   "source": [
    "## Dropping NA values or dropping columns outright\n",
    "See the Missing Values chunks below for a more sophisticated approach to dropping NA or NaN values. "
   ]
  },
  {
   "cell_type": "code",
   "execution_count": 67,
   "metadata": {},
   "outputs": [
    {
     "data": {
      "text/plain": [
       "0"
      ]
     },
     "execution_count": 67,
     "metadata": {},
     "output_type": "execute_result"
    }
   ],
   "source": [
    "# Remove rows with any NA values - naive approach\n",
    "df.dropna().count() #oops, one column is all missing and that drops the whole dataset"
   ]
  },
  {
   "cell_type": "code",
   "execution_count": 68,
   "metadata": {},
   "outputs": [
    {
     "data": {
      "text/plain": [
       "5000"
      ]
     },
     "execution_count": 68,
     "metadata": {},
     "output_type": "execute_result"
    }
   ],
   "source": [
    "# Remove a record if it has NA values in three columns\n",
    "df.dropna(thresh=3).count() # we don't have any missing values aside from one column, which is nice"
   ]
  },
  {
   "cell_type": "code",
   "execution_count": 35,
   "metadata": {},
   "outputs": [],
   "source": [
    "# Make a list of columns to drop\n",
    "cols_to_drop = ['No.', 'UNITNUMBER', 'CLASS']\n",
    "\n",
    "# Drop the columns \n",
    "df = df.drop(*cols_to_drop) # the star (*) tells the function to unpack the list and drop them one-by-one"
   ]
  },
  {
   "cell_type": "markdown",
   "metadata": {},
   "source": [
    "## Transforming or Adjusting Data\n",
    "#### MinMax Scaling, Standardizing (z-score transformation), Log Scaling\n",
    "\n",
    "\"Data does not give up its secrets easily, it must be tortured to confess\""
   ]
  },
  {
   "cell_type": "markdown",
   "metadata": {},
   "source": [
    "### MinMax Scaling"
   ]
  },
  {
   "cell_type": "code",
   "execution_count": 71,
   "metadata": {},
   "outputs": [],
   "source": [
    "# define the minimum and maximum values for the feature of interest\n",
    "min_val = df.agg({'SQFTABOVEGROUND':'min'}).collect()[0][0] # collect forces the agg func to run\n",
    "max_val = df.agg({'SQFTABOVEGROUND':'max'}).collect()[0][0] # [0][0] is necessary to return the value"
   ]
  },
  {
   "cell_type": "code",
   "execution_count": 72,
   "metadata": {},
   "outputs": [
    {
     "name": "stdout",
     "output_type": "stream",
     "text": [
      "+-------------------+\n",
      "|   scaled_SQFTABOVE|\n",
      "+-------------------+\n",
      "|0.13599110987637172|\n",
      "| 0.1759966662036394|\n",
      "|0.15293790804278373|\n",
      "|0.17821919711070983|\n",
      "| 0.1423808862341992|\n",
      "+-------------------+\n",
      "only showing top 5 rows\n",
      "\n"
     ]
    }
   ],
   "source": [
    "# Now use the values to create a new column from the scaled data\n",
    "# the withColumn() method creates a new column based on a transformation of another column\n",
    "df.withColumn('scaled_SQFTABOVE', (df['SQFTABOVEGROUND'] - min_val)/(max_val - min_val))[['scaled_SQFTABOVE']].show(5)"
   ]
  },
  {
   "cell_type": "code",
   "execution_count": 73,
   "metadata": {},
   "outputs": [
    {
     "name": "stdout",
     "output_type": "stream",
     "text": [
      "+---------------+----------------------+---------+--------------------+------------+--------------------+\n",
      "|SQFTABOVEGROUND|scaled_SQFTABOVEGROUND|LISTPRICE|    scaled_LISTPRICE|DAYSONMARKET| scaled_DAYSONMARKET|\n",
      "+---------------+----------------------+---------+--------------------+------------+--------------------+\n",
      "|            980|   0.13599110987637172|   139900|0.006361756789849202|          10|0.044444444444444446|\n",
      "|           1268|    0.1759966662036394|   210000|0.009549570156791759|           4|0.017777777777777778|\n",
      "|           1102|   0.15293790804278373|   225000| 0.01023169855200058|          28| 0.12444444444444444|\n",
      "|           1284|   0.17821919711070983|   230000|0.010459074683736854|          19| 0.08444444444444445|\n",
      "|           1026|    0.1423808862341992|   239900|0.010909279424574677|          21| 0.09333333333333334|\n",
      "+---------------+----------------------+---------+--------------------+------------+--------------------+\n",
      "only showing top 5 rows\n",
      "\n"
     ]
    }
   ],
   "source": [
    "# How about we make a custom function to scale columns of our choice\n",
    "def min_max_scaler(df, cols_to_scale):\n",
    "  # Takes a dataframe and list of columns to minmax scale. Returns a dataframe.\n",
    "  for col in cols_to_scale:\n",
    "    # Define min and max values and collect them\n",
    "    max_days = df.agg({col: 'max'}).collect()[0][0]\n",
    "    min_days = df.agg({col: 'min'}).collect()[0][0]\n",
    "    new_column_name = 'scaled_' + col\n",
    "    # Create a new column based off the scaled data\n",
    "    df = df.withColumn(new_column_name, \n",
    "                      (df[col] - min_days) / (max_days - min_days))\n",
    "  return df\n",
    "\n",
    "cols_to_scale = ['SQFTABOVEGROUND', 'LISTPRICE', 'DAYSONMARKET']\n",
    "\n",
    "min_max_scaler(df, cols_to_scale)[['SQFTABOVEGROUND','scaled_SQFTABOVEGROUND', \n",
    "                                   'LISTPRICE', 'scaled_LISTPRICE', \n",
    "                                   'DAYSONMARKET', 'scaled_DAYSONMARKET']].show(5)"
   ]
  },
  {
   "cell_type": "markdown",
   "metadata": {},
   "source": [
    "## Standardizing"
   ]
  },
  {
   "cell_type": "code",
   "execution_count": 74,
   "metadata": {},
   "outputs": [
    {
     "name": "stdout",
     "output_type": "stream",
     "text": [
      "9.094947017729283e-17\n",
      "[Row(stddev(standardized_SQFTABOVE)=0.9999999999999997)]\n"
     ]
    }
   ],
   "source": [
    "# Similar process to MinMax, but the focus here is on the distribution of the data as opposed to its range of values\n",
    "# define the mean and std values for the feature of interest\n",
    "mean_val = df.agg({'SQFTABOVEGROUND':'mean'}).collect()[0][0] # collect forces the agg func to run\n",
    "std_val = df.agg({'SQFTABOVEGROUND':'stddev'}).collect()[0][0]\n",
    "\n",
    "# Create new column with standardized data\n",
    "df_stand = df.withColumn('standardized_SQFTABOVE', (df['SQFTABOVEGROUND'] - mean_val)/std_val)[['standardized_SQFTABOVE']]\n",
    "\n",
    "# Check the mean to be close to 0 \n",
    "print(df_stand.agg({'standardized_SQFTABOVE': 'mean'}).collect()[0][0])\n",
    "\n",
    "# And the stddev to be close to 1\n",
    "print(df_stand.agg({'standardized_SQFTABOVE': 'stddev'}).collect()) # I left out the [0][0] to show what you'd see otherwise\n"
   ]
  },
  {
   "cell_type": "markdown",
   "metadata": {},
   "source": [
    "## Log Transformation"
   ]
  },
  {
   "cell_type": "code",
   "execution_count": 75,
   "metadata": {},
   "outputs": [
    {
     "name": "stdout",
     "output_type": "stream",
     "text": [
      "41.75409786139753\n",
      "+------------------+\n",
      "|  logged_ListPrice|\n",
      "+------------------+\n",
      "|11.848683160653573|\n",
      "|12.254862809699606|\n",
      "|12.323855681186558|\n",
      "|12.345834587905333|\n",
      "+------------------+\n",
      "only showing top 4 rows\n",
      "\n"
     ]
    }
   ],
   "source": [
    "from pyspark.sql.functions import log \n",
    "\n",
    "# First check skewness\n",
    "print(df.agg({'LISTPRICE': 'skewness'}).collect()[0][0])\n",
    "\n",
    "df.withColumn('logged_ListPrice', log(df['LISTPRICE']))[['logged_ListPrice']].show(4)"
   ]
  },
  {
   "cell_type": "code",
   "execution_count": 76,
   "metadata": {},
   "outputs": [
    {
     "name": "stdout",
     "output_type": "stream",
     "text": [
      "[Row(skewness(YEARBUILT)=-0.24554250134925526)]\n",
      "+---------+-----------------+-------------------+\n",
      "|YEARBUILT|Reflect_YearBuilt|      adj_yearbuilt|\n",
      "+---------+-----------------+-------------------+\n",
      "|     1950|               69|0.23617733727628992|\n",
      "|     1971|               48|0.25831776680732876|\n",
      "|     1949|               70|0.23537745555238682|\n",
      "|     1960|               59| 0.2452460618098304|\n",
      "|     1978|               41|  0.269282508064391|\n",
      "+---------+-----------------+-------------------+\n",
      "only showing top 5 rows\n",
      "\n"
     ]
    }
   ],
   "source": [
    "# Another approach to wrangle a skewed feature into something that's more normally distributed\n",
    "\n",
    "# Compute the skewness\n",
    "print(df.agg({'YEARBUILT': 'skewness'}).collect())\n",
    "\n",
    "# Calculate the max year\n",
    "max_year = df.agg({'YEARBUILT': 'max'}).collect()[0][0]\n",
    "\n",
    "# Create a new column of reflected data\n",
    "df_reflect = df.withColumn('Reflect_YearBuilt', (max_year + 1) - df['YEARBUILT'])\n",
    "\n",
    "# Create a new column based reflected data\n",
    "df_reflect.withColumn('adj_yearbuilt', 1 / log(df_reflect['Reflect_YearBuilt']))[['YEARBUILT', 'Reflect_YearBuilt', \n",
    "                                                                                  'adj_yearbuilt']].show(5)"
   ]
  },
  {
   "cell_type": "markdown",
   "metadata": {},
   "source": [
    "## Missing Values"
   ]
  },
  {
   "cell_type": "markdown",
   "metadata": {},
   "source": [
    "#### Assessing 'missingness'\n",
    "A heatmap from seaborn is a good way to determine the extent of missing data in a dataset. "
   ]
  },
  {
   "cell_type": "code",
   "execution_count": 77,
   "metadata": {},
   "outputs": [
    {
     "data": {
      "image/png": "[encoded data removed]",
      "text/plain": [
       "<Figure size 432x288 with 2 Axes>"
      ]
     },
     "metadata": {
      "needs_background": "light"
     },
     "output_type": "display_data"
    }
   ],
   "source": [
    "columns = ['APPLIANCES','BACKONMARKETDATE','ROOMFAMILYCHAR', 'BASEMENT','DININGROOMDESCRIPTION']\n",
    "# Sample the dataframe and convert to Pandas\n",
    "sample_df = df.select(columns).sample(False, 0.5, 42)\n",
    "pandas_df = sample_df.toPandas()\n",
    "\n",
    "# Convert all values to T/F\n",
    "tf_df = pandas_df.isnull()\n",
    "\n",
    "# Plot it\n",
    "sns.heatmap(data=tf_df)\n",
    "plt.xticks(rotation=90, fontsize=10)\n",
    "plt.yticks(rotation=0, fontsize=10)\n",
    "plt.show()\n"
   ]
  },
  {
   "cell_type": "markdown",
   "metadata": {},
   "source": [
    "### Imputation"
   ]
  },
  {
   "cell_type": "code",
   "execution_count": 78,
   "metadata": {},
   "outputs": [
    {
     "name": "stdout",
     "output_type": "stream",
     "text": [
      "+----+\n",
      "|PDOM|\n",
      "+----+\n",
      "|  10|\n",
      "|   4|\n",
      "|  28|\n",
      "|  19|\n",
      "|  21|\n",
      "+----+\n",
      "only showing top 5 rows\n",
      "\n"
     ]
    }
   ],
   "source": [
    "# Count missing rows\n",
    "missing = df.where(df['PDOM'].isNull()).count()\n",
    "\n",
    "# Calculate the mean value\n",
    "col_mean = df.agg({'PDOM': 'mean'}).collect()[0][0]\n",
    "\n",
    "# Replacing with the mean value for that column\n",
    "df.fillna(col_mean, subset=['PDOM'])[['PDOM']].show(5)"
   ]
  },
  {
   "cell_type": "markdown",
   "metadata": {},
   "source": [
    "### Dropping columns by a threshold of percent missing (null) or percent NaN"
   ]
  },
  {
   "cell_type": "code",
   "execution_count": 84,
   "metadata": {},
   "outputs": [
    {
     "data": {
      "text/plain": [
       "68"
      ]
     },
     "execution_count": 84,
     "metadata": {},
     "output_type": "execute_result"
    }
   ],
   "source": [
    "# Define a function to drop columns if they meet a threshold of missingness or NaNness\n",
    "# Note: this won't work on timestamp or date type columns\n",
    "\n",
    "# Drop the timestamp columns\n",
    "df_no_dates = df.select([c for c in df.columns if c not in {'LISTDATE', 'OFFMARKETDATE'}])\n",
    "\n",
    "# Could also do:\n",
    "#df.drop('LISTDATE', 'OFFMARKETDATE')\n",
    "\n",
    "def column_dropper(df, threshold = 0.60):\n",
    "  # Takes a dataframe and threshold for missing values. Returns a dataframe.\n",
    "  total_records = df.count()\n",
    "  for col in df.columns:\n",
    "    # Calculate the percentage of missing values\n",
    "    missing_null = df.where(df[col].isNull()).count()\n",
    "    missing_nan = df.where(isnan(df[col])).count()\n",
    "    missing_percent_null = missing_null / total_records\n",
    "    missing_percent_nan = missing_nan / total_records\n",
    "    # Drop column if percent of missing is more than threshold\n",
    "    if (missing_percent_null > threshold) | (missing_percent_nan > threshold):\n",
    "      df = df.drop(col)\n",
    "  return df\n",
    "\n",
    "# Drop columns that are more than 60% missing\n",
    "len(column_dropper(df_no_dates, 0.60).columns)"
   ]
  },
  {
   "cell_type": "markdown",
   "metadata": {},
   "source": [
    "## Joining data in Spark with PySpark or with SparkSQL"
   ]
  },
  {
   "cell_type": "code",
   "execution_count": 86,
   "metadata": {},
   "outputs": [
    {
     "name": "stdout",
     "output_type": "stream",
     "text": [
      "+--------------------+----------+------------------+---------------+\n",
      "|       streetaddress|LivingArea|    LivingArea_sqm|SalesClosePrice|\n",
      "+--------------------+----------+------------------+---------------+\n",
      "|      1107 Jenks Ave|      1088|101.07766629505761|         172500|\n",
      "|1181 Edgcumbe Rd,...|       720| 66.88963210702342|          62000|\n",
      "|      1485 Blair Ave|      1932| 179.4871794871795|         241350|\n",
      "|       1679 Lark Ave|      1610| 149.5726495726496|         180000|\n",
      "|  2014 Worcester Ave|      1638|152.17391304347828|         295000|\n",
      "|     2338 Bourne Ave|      2352|218.50613154960982|         480000|\n",
      "|2371 Mailand Ct E...|      1381|128.29803047194352|         151000|\n",
      "|2439 Springside Dr E|      3142|291.89892233370495|         440000|\n",
      "|   26 10th St W, 410|      1073| 99.68413229282795|         156000|\n",
      "|2645 New Century ...|      1598|148.45782237086587|         215000|\n",
      "+--------------------+----------+------------------+---------------+\n",
      "only showing top 10 rows\n",
      "\n"
     ]
    }
   ],
   "source": [
    "# Joining with PySpark\n",
    "\n",
    "# Convert sqft to sqm (square meters) and select the street address and sqm living area size for a new df\n",
    "LivingArea_sqm = df.withColumn('LivingArea_sqm', df['LivingArea'] / 10.764)[['streetaddress', 'LivingArea_sqm']]\n",
    "\n",
    "# Create join condition - here we are joining on the same column ('streetaddress')\n",
    "# But in instances where the join is on columns of different names, you need to \n",
    "# create a join condition to join on, such as:\n",
    "### condition = [df['SalesClosePrice'] == LivingArea_sqm['SalesClosePrice']]\n",
    "\n",
    "# Join the dataframes together\n",
    "join_df = df.join(LivingArea_sqm, on=['streetaddress'], how='left')\n",
    "\n",
    "# Count non-null records from new field\n",
    "join_df.select(['streetaddress', 'LivingArea', 'LivingArea_sqm', 'SalesClosePrice']).show(10)\n",
    "\n",
    "# Certainly, the size of the living area in a house is likely going to be a major predictor of its sale price"
   ]
  },
  {
   "cell_type": "code",
   "execution_count": 87,
   "metadata": {},
   "outputs": [
    {
     "name": "stdout",
     "output_type": "stream",
     "text": [
      "+--------------------+----------+------------------+\n",
      "|       streetaddress|LivingArea|    LivingArea_sqm|\n",
      "+--------------------+----------+------------------+\n",
      "|      1107 Jenks Ave|      1088|101.07766629505761|\n",
      "|1181 Edgcumbe Rd,...|       720| 66.88963210702342|\n",
      "|      1485 Blair Ave|      1932| 179.4871794871795|\n",
      "|       1679 Lark Ave|      1610| 149.5726495726496|\n",
      "|  2014 Worcester Ave|      1638|152.17391304347828|\n",
      "|     2338 Bourne Ave|      2352|218.50613154960982|\n",
      "|2371 Mailand Ct E...|      1381|128.29803047194352|\n",
      "|2439 Springside Dr E|      3142|291.89892233370495|\n",
      "|   26 10th St W, 410|      1073| 99.68413229282795|\n",
      "|2645 New Century ...|      1598|148.45782237086587|\n",
      "+--------------------+----------+------------------+\n",
      "only showing top 10 rows\n",
      "\n"
     ]
    }
   ],
   "source": [
    "# Joining data with Spark SQL\n",
    "\n",
    "# You have to be VERY careful so as not to duplicate columns when using a SQL join.\n",
    "# Spark doesn't work as intuitively as you might think in this area. Notice the \n",
    "# aliasing in the SELECT statement below - if a * was used, the joined_df table\n",
    "# will end up with two 'streetaddress' columns and Spark isn't able to distinguish\n",
    "# between them because they have the same name (even though they don't really, but \n",
    "# that's a different story. This behavior was fixed in the above join via the use \n",
    "# of [] or \"\" around the column name being joined on, but it persists in the SQL\n",
    "# join methodology below unless you specifically call for only one of the columns being \n",
    "# joined on in the SELECT statement. \n",
    "\n",
    "# Register dataframes as tables\n",
    "df.createOrReplaceTempView('df')\n",
    "LivingArea_sqm.createOrReplaceTempView('LivingArea_sqm')\n",
    "\n",
    "# SQL to join dataframes\n",
    "join_sql = \t\"\"\"\n",
    "\t\t\tSELECT df.streetaddress, df.LivingArea, LivingArea_sqm\n",
    "\t\t\tFROM df\n",
    "\t\t\tLEFT JOIN LivingArea_sqm\n",
    "\t\t\tON df.streetaddress = LivingArea_sqm.streetaddress\n",
    "\t\t\t\"\"\"\n",
    "\n",
    "# Perform sql join\n",
    "joined_df = spark.sql(join_sql)\n",
    "\n",
    "joined_df.show(10)"
   ]
  },
  {
   "cell_type": "markdown",
   "metadata": {},
   "source": [
    "## Basic Feature Engineering\n",
    "\n",
    "At the most basic level, feature engineering involves combining two or more known features into new features using simple arithmetic operations. In our running example of home prices, you might have features for the square footage of a home both above ground and below ground that you can sum into a new, total square footage feature (total_sqft). Then, it is possible to make yet another new feature, price_per_sqft by taking total_sqft/list_price. Combining price_per_sqft with another existing or newly created feature can often make things difficult to interpret, so unless there's a good reason to do so it's usually best to stop at combinations of three columns. \n",
    "\n",
    "It's also a good idea to keep the number of columns down to reasonable levels (i.e. it's not usually productive to add the pairwise multiplication of each feature and every other feature). \n",
    "\n",
    "There are two great packages that help to implement feature engineering and are worth looking into - [tsfresh](https://tsfresh.readthedocs.io/en/latest/text/quick_start.html) and [Featuretools](https://docs.featuretools.com/index.html)."
   ]
  },
  {
   "cell_type": "code",
   "execution_count": 88,
   "metadata": {},
   "outputs": [
    {
     "name": "stdout",
     "output_type": "stream",
     "text": [
      "Corr of ACRES vs SalesClosePrice: 0.2206061258893535\n",
      "Corr of FOUNDATIONSIZE vs SalesClosePrice: 0.6152231695664399\n",
      "Corr of YARD_SIZE vs SalesClosePrice: 0.2071458543085422\n"
     ]
    }
   ],
   "source": [
    "# Lot size in square feet\n",
    "acres_to_sqfeet = 43560\n",
    "df = df.withColumn('LOT_SIZE_SQFT', df['ACRES'] * acres_to_sqfeet)\n",
    "\n",
    "# Create new column YARD_SIZE\n",
    "df = df.withColumn('YARD_SIZE', df['LOT_SIZE_SQFT'] - df['FOUNDATIONSIZE'])\n",
    "\n",
    "# Corr of ACRES vs SALESCLOSEPRICE\n",
    "print(\"Corr of ACRES vs SalesClosePrice: \" + str(df.corr('ACRES', 'SalesClosePrice')))\n",
    "# Corr of FOUNDATIONSIZE vs SALESCLOSEPRICE\n",
    "print(\"Corr of FOUNDATIONSIZE vs SalesClosePrice: \" + str(df.corr('FOUNDATIONSIZE', 'SalesClosePrice')))\n",
    "# Corr of YARD_SIZE vs SALESCLOSEPRICE\n",
    "print(\"Corr of YARD_SIZE vs SalesClosePrice: \" + str(df.corr('YARD_SIZE', 'SalesClosePrice')))"
   ]
  },
  {
   "cell_type": "code",
   "execution_count": 96,
   "metadata": {},
   "outputs": [
    {
     "name": "stdout",
     "output_type": "stream",
     "text": [
      "+-----------------+---------+--------------------+\n",
      "|AssessedValuation|LISTPRICE|    ASSESSED_TO_LIST|\n",
      "+-----------------+---------+--------------------+\n",
      "|            255.0|        5|                51.0|\n",
      "|           2861.0|    40000|            0.071525|\n",
      "|           8588.0|   164900| 0.05208004851425106|\n",
      "|           9090.0|   189900|0.047867298578199054|\n",
      "|           6600.0|   150000|               0.044|\n",
      "+-----------------+---------+--------------------+\n",
      "only showing top 5 rows\n",
      "\n",
      "+--------------------+-------+---------+\n",
      "|         TAX_TO_LIST|  TAXES|LISTPRICE|\n",
      "+--------------------+-------+---------+\n",
      "|   8.786029665401863|2547070|   289900|\n",
      "| 0.02541769451296753|  38124|  1499900|\n",
      "|0.022931159420289855|  31645|  1380000|\n",
      "|0.018127058823529413|  30816|  1700000|\n",
      "|0.019410033444816052|  29018|  1495000|\n",
      "+--------------------+-------+---------+\n",
      "only showing top 5 rows\n",
      "\n",
      "+------------+--------+----------+\n",
      "|BED_TO_BATHS|BEDROOMS|BATHSTOTAL|\n",
      "+------------+--------+----------+\n",
      "|         5.0|       5|         1|\n",
      "|         5.0|       5|         1|\n",
      "|         4.0|       4|         1|\n",
      "|         4.0|       4|         1|\n",
      "|         4.0|       4|         1|\n",
      "+------------+--------+----------+\n",
      "only showing top 5 rows\n",
      "\n"
     ]
    }
   ],
   "source": [
    "# Create feature Ratios\n",
    "\n",
    "# ASSESSED_TO_LIST\n",
    "df = df.withColumn('ASSESSED_TO_LIST', df['AssessedValuation']/df['LISTPRICE'])\n",
    "df[['AssessedValuation', 'LISTPRICE', 'ASSESSED_TO_LIST']]\\\n",
    "                .sort(col('ASSESSED_TO_LIST').desc()).show(5) # a home for $5?! Either a mistake or family transfer\n",
    "\n",
    "# TAX_TO_LIST\n",
    "df = df.withColumn('TAX_TO_LIST', df['TAXES']/df['LISTPRICE'])\n",
    "df[['TAX_TO_LIST', 'TAXES', 'LISTPRICE']].sort(col('TAXES').desc()).show(5) # Looks like we got a big outlier here\n",
    "\n",
    "# BED_TO_BATHS\n",
    "df = df.withColumn('BED_TO_BATHS', df['BEDROOMS']/df['BATHSTOTAL'])\n",
    "df[['BED_TO_BATHS', 'BEDROOMS', 'BATHSTOTAL']].sort(col('BED_TO_BATHS').desc()).show(5) \n",
    "# Maybe a more sensitive feature would be baths to beds based on the data below"
   ]
  },
  {
   "cell_type": "code",
   "execution_count": 100,
   "metadata": {},
   "outputs": [
    {
     "name": "stdout",
     "output_type": "stream",
     "text": [
      "+-------+-----------------+------------------+-------------------+\n",
      "|summary|       Total_SQFT|        BATHSTOTAL| BATHS_PER_1000SQFT|\n",
      "+-------+-----------------+------------------+-------------------+\n",
      "|  count|             5000|              5000|               5000|\n",
      "|   mean|         1844.528|            2.2008| 1.4302617483739894|\n",
      "| stddev|840.4421899398712|0.9574250323333453| 14.128904102459384|\n",
      "|    min|                1|                 1|0.39123630672926446|\n",
      "|    max|             8222|                 7|             1000.0|\n",
      "+-------+-----------------+------------------+-------------------+\n",
      "\n",
      "+----------+----------+------------------+\n",
      "|Total_SQFT|BATHSTOTAL|BATHS_PER_1000SQFT|\n",
      "+----------+----------+------------------+\n",
      "|         1|         1|            1000.0|\n",
      "|       934|         4| 4.282655246252676|\n",
      "|       600|         2|3.3333333333333335|\n",
      "|       649|         2| 3.081664098613251|\n",
      "|      1047|         3| 2.865329512893983|\n",
      "+----------+----------+------------------+\n",
      "only showing top 5 rows\n",
      "\n"
     ]
    },
    {
     "data": {
      "image/png": "[encoded data removed]",
      "text/plain": [
       "<Figure size 432x432 with 3 Axes>"
      ]
     },
     "metadata": {
      "needs_background": "light"
     },
     "output_type": "display_data"
    },
    {
     "data": {
      "image/png": "[encoded data removed]",
      "text/plain": [
       "<Figure size 432x432 with 3 Axes>"
      ]
     },
     "metadata": {
      "needs_background": "light"
     },
     "output_type": "display_data"
    }
   ],
   "source": [
    "# Create new feature by adding two features together\n",
    "df = df.withColumn('Total_SQFT', df['SQFTBELOWGROUND'] + df['SQFTABOVEGROUND'])\n",
    "\n",
    "# Create additional new feature using previously created feature\n",
    "df = df.withColumn('BATHS_PER_1000SQFT', df['BATHSTOTAL'] / (df['Total_SQFT'] / 1000))\n",
    "df[['Total_SQFT','BATHSTOTAL','BATHS_PER_1000SQFT']].describe().show() # clearly have an outlier\n",
    "\n",
    "# Check on outlier - a house that is 1 sqft would be a little tight, but at least it has a bathroom\n",
    "df[['Total_SQFT','BATHSTOTAL','BATHS_PER_1000SQFT']].sort(col('BATHS_PER_1000SQFT').desc()).show(5)\n",
    "\n",
    "# Sample and create pandas dataframe\n",
    "pandas_df = df.sample(False, 0.5, 0).toPandas()\n",
    "\n",
    "import scipy.stats as stats\n",
    "\n",
    "# Define a function to compute r^2\n",
    "def r2(x, y):\n",
    "    return stats.pearsonr(x, y)[0] ** 2\n",
    "\n",
    "# Linear model plots\n",
    "sns.jointplot(x='Total_SQFT', y='SalesClosePrice', data=pandas_df, kind=\"reg\", stat_func=r2)\n",
    "plt.show()\n",
    "sns.jointplot(x='BATHS_PER_1000SQFT', y='SalesClosePrice', data=pandas_df, kind=\"reg\",stat_func=r2) \n",
    "plt.show() # Clearly have an outlier here"
   ]
  },
  {
   "cell_type": "markdown",
   "metadata": {},
   "source": [
    "## Time Components\n",
    "\n",
    "Time is cyclical and creating new features based on time can be very influential if done well. PySpark's week starts on Sunday, with a value of 1 and ends on Saturday, a value of 7."
   ]
  },
  {
   "cell_type": "code",
   "execution_count": 102,
   "metadata": {},
   "outputs": [
    {
     "data": {
      "image/png": "[encoded data removed]",
      "text/plain": [
       "<Figure size 432x288 with 1 Axes>"
      ]
     },
     "metadata": {
      "needs_background": "light"
     },
     "output_type": "display_data"
    }
   ],
   "source": [
    "# Import needed functions\n",
    "from pyspark.sql.functions import to_date, dayofweek\n",
    "\n",
    "# Convert to date type\n",
    "df = df.withColumn('LISTDATE', to_date('LISTDATE')) # note that this was in timestamp format, \n",
    "                                                    # to_date doesn't work on strings\n",
    "\n",
    "# Get the day of the week\n",
    "df = df.withColumn('List_Day_of_Week', dayofweek('LISTDATE'))\n",
    "\n",
    "# Sample and convert to pandas dataframe\n",
    "sample_df = df.sample(False, .5, 42).toPandas()\n",
    "\n",
    "# Plot count plot of of day of week - most houses are listed on Thursdays and Fridays in this dataset it seems\n",
    "sns.countplot(x=\"List_Day_of_Week\", data=sample_df)\n",
    "plt.show()"
   ]
  },
  {
   "cell_type": "code",
   "execution_count": 103,
   "metadata": {},
   "outputs": [
    {
     "name": "stdout",
     "output_type": "stream",
     "text": [
      "+----+\n",
      "|Year|\n",
      "+----+\n",
      "|2017|\n",
      "|2017|\n",
      "|2017|\n",
      "|2017|\n",
      "|2017|\n",
      "+----+\n",
      "only showing top 5 rows\n",
      "\n",
      "None\n",
      "+-----+\n",
      "|Month|\n",
      "+-----+\n",
      "|    7|\n",
      "|   10|\n",
      "|    6|\n",
      "|    8|\n",
      "|    9|\n",
      "+-----+\n",
      "only showing top 5 rows\n",
      "\n",
      "None\n",
      "+----------+\n",
      "|DayofMonth|\n",
      "+----------+\n",
      "|        15|\n",
      "|         9|\n",
      "|        26|\n",
      "|        25|\n",
      "|        12|\n",
      "+----------+\n",
      "only showing top 5 rows\n",
      "\n",
      "None\n",
      "+----------+\n",
      "|WeekofYear|\n",
      "+----------+\n",
      "|        28|\n",
      "|        41|\n",
      "|        26|\n",
      "|        34|\n",
      "|        37|\n",
      "+----------+\n",
      "only showing top 5 rows\n",
      "\n",
      "None\n"
     ]
    }
   ],
   "source": [
    "# Let's pull individual components of the timestamp feature we have as separate features\n",
    "\n",
    "# Import needed functions\n",
    "from pyspark.sql.functions import year, month, dayofmonth, weekofyear\n",
    "\n",
    "print(df.withColumn('Year', year('LISTDATE'))[['Year']].show(5))\n",
    "print(df.withColumn('Month', month('LISTDATE'))[['Month']].show(5))\n",
    "print(df.withColumn('DayofMonth', dayofmonth('LISTDATE'))[['DayofMonth']].show(5))\n",
    "print(df.withColumn('WeekofYear', weekofyear('LISTDATE'))[['WeekofYear']].show(5))\n"
   ]
  },
  {
   "cell_type": "code",
   "execution_count": 357,
   "metadata": {},
   "outputs": [
    {
     "name": "stdout",
     "output_type": "stream",
     "text": [
      "+--------------+------------+\n",
      "|Days_on_market|DAYSONMARKET|\n",
      "+--------------+------------+\n",
      "|            15|          10|\n",
      "|             4|           4|\n",
      "|            28|          28|\n",
      "|            19|          19|\n",
      "|            21|          21|\n",
      "|            17|          17|\n",
      "|            32|          32|\n",
      "|             5|           5|\n",
      "|            30|          23|\n",
      "|            79|          73|\n",
      "+--------------+------------+\n",
      "only showing top 10 rows\n",
      "\n"
     ]
    }
   ],
   "source": [
    "from pyspark.sql.functions import lag, datediff, to_date\n",
    "from pyspark.sql.window import Window\n",
    "\n",
    "# Assess the accuracy of the days on market field compared to list date and off market date\n",
    "df.withColumn('Days_on_market', datediff('OFFMARKETDATE', 'LISTDATE'))[['Days_on_market', 'DAYSONMARKET']].show(10)"
   ]
  },
  {
   "cell_type": "code",
   "execution_count": 104,
   "metadata": {},
   "outputs": [
    {
     "name": "stdout",
     "output_type": "stream",
     "text": [
      "+----------------+----------+----------+\n",
      "|Days_bt_List_Lag|  LISTDATE|LISTDATE-1|\n",
      "+----------------+----------+----------+\n",
      "|            null|2017-02-23|      null|\n",
      "|            null|2017-02-24|      null|\n",
      "|              -1|2017-02-24|2017-02-23|\n",
      "|               0|2017-02-24|2017-02-24|\n",
      "|              -1|2017-02-25|2017-02-24|\n",
      "|               0|2017-02-25|2017-02-25|\n",
      "|              -2|2017-02-27|2017-02-25|\n",
      "|               0|2017-02-27|2017-02-27|\n",
      "|              -1|2017-02-28|2017-02-27|\n",
      "|               0|2017-02-28|2017-02-28|\n",
      "|              -1|2017-03-01|2017-02-28|\n",
      "|               0|2017-03-01|2017-03-01|\n",
      "|              -1|2017-03-02|2017-03-01|\n",
      "|               0|2017-03-02|2017-03-02|\n",
      "|              -1|2017-03-03|2017-03-02|\n",
      "+----------------+----------+----------+\n",
      "only showing top 15 rows\n",
      "\n"
     ]
    }
   ],
   "source": [
    "## This is maybe not the best example, but you can use a window and a lag to create\n",
    "#  a new feature that captures the lag in time events, such as when houses are \n",
    "#  listed on the market or perhaps when reports are submitted or purchases are made\n",
    "\n",
    "# Create new feature based on difference b/t list date and off market date\n",
    "mort_df = df.withColumn('Days_on_market', datediff('OFFMARKETDATE', 'LISTDATE'))\n",
    "\n",
    "# Create window\n",
    "w = Window().orderBy(mort_df['LISTDATE'])\n",
    "\n",
    "# Create lag column\n",
    "mort_df = mort_df.withColumn('LISTDATE-1', lag('LISTDATE', count=2).over(w))\n",
    "\n",
    "# Calculate difference between date columns\n",
    "mort_df = mort_df.withColumn('Days_bt_List_Lag', datediff('LISTDATE-1', 'LISTDATE'))\n",
    "\n",
    "# Print results\n",
    "mort_df.select('Days_bt_List_Lag', 'LISTDATE', 'LISTDATE-1').distinct().show(15) \n"
   ]
  },
  {
   "cell_type": "markdown",
   "metadata": {},
   "source": [
    "## Extracting text to new features with when()\n",
    "Features often contain text, which often comes unstructured. Let's apply structure to text data by creating a new binary feature based on the presence of a keyword or phrase in a text column. "
   ]
  },
  {
   "cell_type": "code",
   "execution_count": 106,
   "metadata": {},
   "outputs": [
    {
     "name": "stdout",
     "output_type": "stream",
     "text": [
      "+--------------------------------------------------------------+\n",
      "|                                             GARAGEDESCRIPTION|\n",
      "+--------------------------------------------------------------+\n",
      "|                                               Attached Garage|\n",
      "|       Attached Garage, Driveway - Asphalt, Garage Door Opener|\n",
      "|                                               Attached Garage|\n",
      "|Attached Garage, Detached Garage, Tuckunder, Driveway - Gravel|\n",
      "|       Attached Garage, Driveway - Asphalt, Garage Door Opener|\n",
      "|                           Attached Garage, Driveway - Asphalt|\n",
      "|       Attached Garage, Driveway - Asphalt, Garage Door Opener|\n",
      "|                                               Attached Garage|\n",
      "|                                               Attached Garage|\n",
      "|                                               Attached Garage|\n",
      "+--------------------------------------------------------------+\n",
      "only showing top 10 rows\n",
      "\n"
     ]
    }
   ],
   "source": [
    "# Take a look at an unstructured text feature\n",
    "df[['GARAGEDESCRIPTION']].show(10, truncate=100)"
   ]
  },
  {
   "cell_type": "code",
   "execution_count": 107,
   "metadata": {},
   "outputs": [
    {
     "name": "stdout",
     "output_type": "stream",
     "text": [
      "+--------------------------------------------------------------+-------------------+\n",
      "|                                             GARAGEDESCRIPTION|has_attached_garage|\n",
      "+--------------------------------------------------------------+-------------------+\n",
      "|                                               Attached Garage|                  1|\n",
      "|       Attached Garage, Driveway - Asphalt, Garage Door Opener|                  1|\n",
      "|                                               Attached Garage|                  1|\n",
      "|Attached Garage, Detached Garage, Tuckunder, Driveway - Gravel|                  1|\n",
      "|       Attached Garage, Driveway - Asphalt, Garage Door Opener|                  1|\n",
      "|                           Attached Garage, Driveway - Asphalt|                  1|\n",
      "|       Attached Garage, Driveway - Asphalt, Garage Door Opener|                  1|\n",
      "|                                               Attached Garage|                  1|\n",
      "|                                               Attached Garage|                  1|\n",
      "|                                               Attached Garage|                  1|\n",
      "+--------------------------------------------------------------+-------------------+\n",
      "only showing top 10 rows\n",
      "\n"
     ]
    }
   ],
   "source": [
    "# Import when function\n",
    "from pyspark.sql.functions import when\n",
    "\n",
    "# Create boolean conditions for string matches\n",
    "# Note the use of the '%' wildcards that act just like they do in SQL\n",
    "has_attached_garage = df['GARAGEDESCRIPTION'].like('%Attached Garage%')\n",
    "has_detached_garage = df['GARAGEDESCRIPTION'].like('%Detached Garage%')\n",
    "\n",
    "# Conditional value assignment \n",
    "# The otherwise() function catches any missing or non-conforming data \n",
    "df.withColumn('has_attached_garage', \n",
    "              (when(has_attached_garage, 1)\n",
    "              .when(has_detached_garage, 0)\n",
    "              .otherwise(None)))[['GARAGEDESCRIPTION', 'has_attached_garage']].show(10, truncate=100)\n"
   ]
  },
  {
   "cell_type": "markdown",
   "metadata": {},
   "source": [
    "## Splitting, exploding, and pivoting\n",
    "Did you notice above that the GARAGEDESCRIPTION feature contains other interesting details about the house? We could manually run through each of those details using when() statements, but it is also possible to split string features on a specified character, create a new list-like array, pivot using those values, and then join them back to the original df to add a bunch of new features in one series of steps. \n",
    "\n",
    "Be careful with the number of distinct elements that you pivot on or else your feature space can explode in a bad way. "
   ]
  },
  {
   "cell_type": "code",
   "execution_count": 108,
   "metadata": {},
   "outputs": [
    {
     "name": "stdout",
     "output_type": "stream",
     "text": [
      "+----------------------------+\n",
      "|              ex_garage_list|\n",
      "+----------------------------+\n",
      "|             Attached Garage|\n",
      "|      On-Street Parking Only|\n",
      "|                        None|\n",
      "| More Parking Onsite for Fee|\n",
      "|          Garage Door Opener|\n",
      "|   No Int Access to Dwelling|\n",
      "|           Driveway - Gravel|\n",
      "|       Valet Parking for Fee|\n",
      "|              Uncovered/Open|\n",
      "|               Heated Garage|\n",
      "|          Underground Garage|\n",
      "|                       Other|\n",
      "|                  Unassigned|\n",
      "|More Parking Offsite for Fee|\n",
      "|    Driveway - Other Surface|\n",
      "+----------------------------+\n",
      "only showing top 15 rows\n",
      "\n"
     ]
    }
   ],
   "source": [
    "# Import needed functions\n",
    "from pyspark.sql.functions import split, explode\n",
    "\n",
    "# Note that both split() and explode() take as arguments the \n",
    "# df['col_name'] and not just 'col_name' as with some other functions\n",
    "\n",
    "# Convert string to list-like array\n",
    "df = df.withColumn('garage_list', split(df['GARAGEDESCRIPTION'], ', ')) # note the comma and space to split on here\n",
    "\n",
    "# Explode the values into new records\n",
    "ex_df = df.withColumn('ex_garage_list', explode(df['garage_list']))\n",
    "\n",
    "# Inspect the values\n",
    "ex_df[['ex_garage_list']].distinct().show(15, truncate=50)"
   ]
  },
  {
   "cell_type": "code",
   "execution_count": 109,
   "metadata": {},
   "outputs": [
    {
     "data": {
      "text/plain": [
       "['NO',\n",
       " 'Assigned',\n",
       " 'Attached Garage',\n",
       " 'Carport',\n",
       " 'Contract Pkg Required',\n",
       " 'Covered',\n",
       " 'Detached Garage',\n",
       " 'Driveway - Asphalt',\n",
       " 'Driveway - Concrete',\n",
       " 'Driveway - Gravel',\n",
       " 'Driveway - Other Surface',\n",
       " 'Driveway - Shared',\n",
       " 'Garage Door Opener',\n",
       " 'Heated Garage',\n",
       " 'Insulated Garage',\n",
       " 'More Parking Offsite for Fee',\n",
       " 'More Parking Onsite for Fee',\n",
       " 'No Int Access to Dwelling',\n",
       " 'None',\n",
       " 'On-Street Parking Only',\n",
       " 'Other',\n",
       " 'Secured',\n",
       " 'Tandem',\n",
       " 'Tuckunder',\n",
       " 'Unassigned',\n",
       " 'Uncovered/Open',\n",
       " 'Underground Garage',\n",
       " 'Units Vary',\n",
       " 'Valet Parking for Fee']"
      ]
     },
     "execution_count": 109,
     "metadata": {},
     "output_type": "execute_result"
    }
   ],
   "source": [
    "from pyspark.sql.functions import monotonically_increasing_id, lit, first, coalesce\n",
    "\n",
    "# First, give each row in the df a unique id number, 'NO' for 'number'\n",
    "ex_df = ex_df.select(\"*\").withColumn(\"NO\", monotonically_increasing_id())\n",
    "\n",
    "# Create a dummy column of constant values - lit() stands for literal and is often needed when \n",
    "# interfacing pyspark.sql.Column methods with a standard Python scalar. \n",
    "# In other words, lit() is used to allow single values where an entire column is expected in a function call.\n",
    "ex_df = ex_df.withColumn('constant_val', lit(1))\n",
    "\n",
    "# Pivot the values into boolean columns\n",
    "piv_df = ex_df.groupby('NO').pivot('ex_garage_list').agg(coalesce(first('constant_val')))\n",
    "\n",
    "piv_df.columns # lots of new features"
   ]
  },
  {
   "cell_type": "code",
   "execution_count": 110,
   "metadata": {},
   "outputs": [],
   "source": [
    "# Now, to join those new features to our original dataset\n",
    "\n",
    "# Join the dataframes together and fill null\n",
    "joined_df = ex_df.join(piv_df, on='NO', how='left')\n",
    "\n",
    "# Columns to zero fill\n",
    "zfill_cols = piv_df.columns\n",
    "\n",
    "# Zero fill the pivoted values\n",
    "zfilled_df = joined_df.fillna(0, subset=zfill_cols)"
   ]
  },
  {
   "cell_type": "code",
   "execution_count": 111,
   "metadata": {},
   "outputs": [
    {
     "data": {
      "text/plain": [
       "111"
      ]
     },
     "execution_count": 111,
     "metadata": {},
     "output_type": "execute_result"
    }
   ],
   "source": [
    "len(zfilled_df.columns) # Just added around 30 new features all from one old text feature!"
   ]
  },
  {
   "cell_type": "markdown",
   "metadata": {},
   "source": [
    "## Binarizing, Bucketing & Encoding\n",
    "\n",
    "### Binarizing\n",
    "\n",
    "A binarizer can turn a feature of continuous measurements into a binary (0,1) feature based on whether or not feature observations exceed a given threshold. This can be useful in turning a more complex range of information (i.e. continuous values) into more a straightforward presence/absence feature. Examples might include the presence/absence of a fireplace instead of how many fireplaces or the presence of absence of sqft below ground to indicate a finished or partially finished basement as opposed the raw square footage in the basement that was finished. "
   ]
  },
  {
   "cell_type": "code",
   "execution_count": 114,
   "metadata": {},
   "outputs": [
    {
     "name": "stdout",
     "output_type": "stream",
     "text": [
      "+----------+----------------+-----------------------+\n",
      "|  LISTDATE|List_Day_of_Week|Listed_On_Thurs_Fri_Sat|\n",
      "+----------+----------------+-----------------------+\n",
      "|2017-07-15|             7.0|                    1.0|\n",
      "|2017-10-09|             2.0|                    0.0|\n",
      "|2017-06-26|             2.0|                    0.0|\n",
      "|2017-08-25|             6.0|                    1.0|\n",
      "|2017-09-12|             3.0|                    0.0|\n",
      "|2017-04-10|             2.0|                    0.0|\n",
      "|2017-06-08|             5.0|                    1.0|\n",
      "|2017-11-05|             1.0|                    0.0|\n",
      "|2017-10-12|             5.0|                    1.0|\n",
      "|2017-09-02|             7.0|                    1.0|\n",
      "+----------+----------------+-----------------------+\n",
      "only showing top 10 rows\n",
      "\n"
     ]
    }
   ],
   "source": [
    "# I'm curious about houses that were listed on the market on a Thursday, Friday, or Saturday - \n",
    "# Those were shown to be the more popular list days of the week (see histogram above).\n",
    "# Perhaps this might be relevant details for a feature for various models. \n",
    "\n",
    "# Import transformer\n",
    "from pyspark.ml.feature import Binarizer\n",
    "\n",
    "# Create the transformer - 5 is Thursday based on the Spark timestamp \n",
    "binarizer = Binarizer(threshold=4.0, inputCol='List_Day_of_Week', outputCol='Listed_On_Thurs_Fri_Sat')\n",
    "\n",
    "# Change column of interest from bigint to double for the Binarizer\n",
    "df = df.withColumn('List_Day_of_Week', df['List_Day_of_Week'].cast('double'))\n",
    "\n",
    "# Apply the transformation to df and verify\n",
    "binarizer.transform(df)[['LISTDATE','List_Day_of_Week', 'Listed_On_Thurs_Fri_Sat']].show(10)\n"
   ]
  },
  {
   "cell_type": "markdown",
   "metadata": {},
   "source": [
    "## Bucketing\n",
    "\n",
    "Bucketing applies a similar concept to binarizing, but in this case it is for creating discrete groups within a given range based on split values specified by the user. Examples to consider here might be cases where you have one or two long tails in your data and want to simplify the feature-space by bucketing. In the example here, many high-income buyers are less likely to care about the presence of bedrooms beyond 5 (since very few homes have more than 5 bedrooms), so we can keep much of the existing structure in the feature that conveys the number of bedrooms but reduce the feature-space for homes with more than 5 bedrooms to a single bucket. "
   ]
  },
  {
   "cell_type": "code",
   "execution_count": 115,
   "metadata": {},
   "outputs": [
    {
     "data": {
      "image/png": "[encoded data removed]",
      "text/plain": [
       "<Figure size 432x288 with 1 Axes>"
      ]
     },
     "metadata": {
      "needs_background": "light"
     },
     "output_type": "display_data"
    },
    {
     "name": "stdout",
     "output_type": "stream",
     "text": [
      "+--------+---------------+\n",
      "|Bedrooms|bedrooms_bucket|\n",
      "+--------+---------------+\n",
      "|       9|            5.0|\n",
      "|       8|            5.0|\n",
      "|       7|            5.0|\n",
      "|       7|            5.0|\n",
      "|       7|            5.0|\n",
      "|       7|            5.0|\n",
      "|       6|            5.0|\n",
      "|       6|            5.0|\n",
      "|       6|            5.0|\n",
      "|       6|            5.0|\n",
      "|       6|            5.0|\n",
      "|       6|            5.0|\n",
      "|       6|            5.0|\n",
      "|       6|            5.0|\n",
      "|       6|            5.0|\n",
      "+--------+---------------+\n",
      "only showing top 15 rows\n",
      "\n"
     ]
    }
   ],
   "source": [
    "from pyspark.ml.feature import Bucketizer\n",
    "\n",
    "# Plot distribution of sample_df \n",
    "sns.distplot(sample_df['Bedrooms'], axlabel='Bedrooms')\n",
    "plt.show()\n",
    "\n",
    "# Create the bucket splits and bucketizer\n",
    "splits = [0, 1, 2, 3, 4, 5, float('Inf')]\n",
    "buck = Bucketizer(splits=splits, inputCol='Bedrooms', outputCol='bedrooms_bucket')\n",
    "\n",
    "# Apply the transformation to df and verify results\n",
    "buck.transform(df)[['Bedrooms', 'bedrooms_bucket']].sort(col('Bedrooms').desc()).show(15)"
   ]
  },
  {
   "cell_type": "markdown",
   "metadata": {},
   "source": [
    "### One Hot Encoding\n",
    "One Hot Encoding is a great way to handle categorial variables. You may notice after running the chunk below that the implementation in PySpark is different than Pandas get_dummies() as it puts everything into a single column of type vector rather than a new column for each value. It's also different from sklearn's OneHotEncoder in that the last categorical value is captured by a vector of all zeros."
   ]
  },
  {
   "cell_type": "code",
   "execution_count": 116,
   "metadata": {},
   "outputs": [
    {
     "name": "stdout",
     "output_type": "stream",
     "text": [
      "+-----------------------------+------------+-------------+\n",
      "|         SchoolDistrictNumber|School_Index|   School_Vec|\n",
      "+-----------------------------+------------+-------------+\n",
      "|             834 - Stillwater|         3.0|(7,[3],[1.0])|\n",
      "|             834 - Stillwater|         3.0|(7,[3],[1.0])|\n",
      "|622 - North St Paul-Maplewood|         1.0|(7,[1],[1.0])|\n",
      "|             834 - Stillwater|         3.0|(7,[3],[1.0])|\n",
      "|622 - North St Paul-Maplewood|         1.0|(7,[1],[1.0])|\n",
      "|             834 - Stillwater|         3.0|(7,[3],[1.0])|\n",
      "|             834 - Stillwater|         3.0|(7,[3],[1.0])|\n",
      "|             834 - Stillwater|         3.0|(7,[3],[1.0])|\n",
      "|             834 - Stillwater|         3.0|(7,[3],[1.0])|\n",
      "|             834 - Stillwater|         3.0|(7,[3],[1.0])|\n",
      "|             834 - Stillwater|         3.0|(7,[3],[1.0])|\n",
      "|             834 - Stillwater|         3.0|(7,[3],[1.0])|\n",
      "|             834 - Stillwater|         3.0|(7,[3],[1.0])|\n",
      "|             834 - Stillwater|         3.0|(7,[3],[1.0])|\n",
      "|             834 - Stillwater|         3.0|(7,[3],[1.0])|\n",
      "|             834 - Stillwater|         3.0|(7,[3],[1.0])|\n",
      "|             834 - Stillwater|         3.0|(7,[3],[1.0])|\n",
      "|             834 - Stillwater|         3.0|(7,[3],[1.0])|\n",
      "|             834 - Stillwater|         3.0|(7,[3],[1.0])|\n",
      "|             834 - Stillwater|         3.0|(7,[3],[1.0])|\n",
      "+-----------------------------+------------+-------------+\n",
      "only showing top 20 rows\n",
      "\n"
     ]
    }
   ],
   "source": [
    "from pyspark.ml.feature import OneHotEncoder, StringIndexer\n",
    "\n",
    "# Map strings to numbers with string indexer\n",
    "string_indexer = StringIndexer(inputCol='SchoolDistrictNumber', outputCol='School_Index')\n",
    "indexed_df = string_indexer.fit(df).transform(df)\n",
    "\n",
    "# Onehot encode indexed values\n",
    "encoder = OneHotEncoder(inputCol='School_Index', outputCol='School_Vec')\n",
    "encoder.transform(indexed_df)[['SchoolDistrictNumber', 'School_Index', 'School_Vec']].show(truncate=100)"
   ]
  },
  {
   "cell_type": "markdown",
   "metadata": {},
   "source": [
    "# Model Selection\n",
    "Phew, with all that feature engineering behind us, it's now time to consider how those engineered features can be incorporated into a machine learning model. The first step in training a model is to make an informed decision as to what model(s) is/are the most appropriate for the data at hand and the question being asked of the data. In this guide, the running theme has been to predict the price of a house. For that kind of quantity (i.e. $$) prediction, we'll want to use methods from Spark ml.regression. Standard linear, generalized linear, or or isotonic regression models are available, but the dataset we are working with doesn't exactly satisfy the assumptions of those models. Instead, we'll turn to some tree base approaches - Random Forest and GBTRegression for this task. "
   ]
  },
  {
   "cell_type": "markdown",
   "metadata": {},
   "source": [
    "## Train test split on date\n",
    "As with any machine learning modeling process, it's best to first split the data into training and testing (and perhaps also validation) splits. "
   ]
  },
  {
   "cell_type": "code",
   "execution_count": 36,
   "metadata": {},
   "outputs": [
    {
     "name": "stdout",
     "output_type": "stream",
     "text": [
      "154\n",
      "4828\n",
      "Train df:\n",
      "+-------------------+\n",
      "|      OFFMARKETDATE|\n",
      "+-------------------+\n",
      "|2017-02-24 00:00:00|\n",
      "|2017-02-25 00:00:00|\n",
      "|2017-02-27 00:00:00|\n",
      "|2017-02-28 00:00:00|\n",
      "|2017-03-02 00:00:00|\n",
      "|2017-03-02 00:00:00|\n",
      "|2017-03-03 00:00:00|\n",
      "|2017-03-03 00:00:00|\n",
      "|2017-03-03 00:00:00|\n",
      "|2017-03-03 00:00:00|\n",
      "+-------------------+\n",
      "only showing top 10 rows\n",
      "\n",
      "2017-02-24 00:00:00\n",
      "2017-12-09 00:00:00\n",
      "Test df:\n",
      "+-------------------+\n",
      "|      OFFMARKETDATE|\n",
      "+-------------------+\n",
      "|2017-12-10 00:00:00|\n",
      "|2017-12-10 00:00:00|\n",
      "|2017-12-11 00:00:00|\n",
      "|2017-12-11 00:00:00|\n",
      "|2017-12-11 00:00:00|\n",
      "|2017-12-11 00:00:00|\n",
      "|2017-12-11 00:00:00|\n",
      "|2017-12-11 00:00:00|\n",
      "|2017-12-11 00:00:00|\n",
      "|2017-12-11 00:00:00|\n",
      "+-------------------+\n",
      "only showing top 10 rows\n",
      "\n",
      "2017-12-10 00:00:00\n",
      "2018-01-24 00:00:00\n"
     ]
    }
   ],
   "source": [
    "from datetime import timedelta\n",
    "\n",
    "# Here we will write a function to split the dataset into a train and \n",
    "# test split based on the number of days from the most recent date\n",
    "# in the dataset\n",
    "\n",
    "def train_test_split_date(df, split_col, test_days=45):\n",
    "  \"\"\"Calculate the date to split test and training sets\"\"\"\n",
    "  # Find how many days our data spans\n",
    "  max_date = df.agg({split_col: 'max'}).collect()[0][0]\n",
    "  min_date = df.agg({split_col: 'min'}).collect()[0][0]\n",
    "  # Subtract an integer number of days from the last date in dataset\n",
    "  split_date = max_date - timedelta(days=test_days)\n",
    "  return split_date\n",
    "\n",
    "# Find the date to use in spitting test and train\n",
    "split_date = train_test_split_date(df, 'OFFMARKETDATE')\n",
    "\n",
    "# Create Sequential Test and Training Sets\n",
    "train_df = df.where(df['OFFMARKETDATE'] < split_date) \n",
    "test_df = df.where(df['OFFMARKETDATE'] >= split_date).where(df['LISTDATE'] <= split_date) \n",
    "\n",
    "print(test_df.count()) # maybe not the most reasonable split here, but you get the idea\n",
    "print(train_df.count())\n",
    "\n",
    "\n",
    "# Here are the dates from the train/test sorted by recency\n",
    "print('Train df:')\n",
    "train_df[['OFFMARKETDATE']].sort(col('OFFMARKETDATE')).show(10)\n",
    "print(train_df.agg({'OFFMARKETDATE': 'min'}).collect()[0][0])\n",
    "print(train_df.agg({'OFFMARKETDATE': 'max'}).collect()[0][0])\n",
    "\n",
    "print('Test df:')\n",
    "test_df[['OFFMARKETDATE']].sort(col('OFFMARKETDATE')).show(10)\n",
    "print(test_df.agg({'OFFMARKETDATE': 'min'}).collect()[0][0])\n",
    "print(test_df.agg({'OFFMARKETDATE': 'max'}).collect()[0][0])"
   ]
  },
  {
   "cell_type": "code",
   "execution_count": 37,
   "metadata": {},
   "outputs": [
    {
     "name": "stdout",
     "output_type": "stream",
     "text": [
      "+-------------------+------------------+\n",
      "|      OFFMARKETDATE|              rank|\n",
      "+-------------------+------------------+\n",
      "|2018-01-24 00:00:00|0.9997999599919984|\n",
      "|2018-01-24 00:00:00|0.9997999599919984|\n",
      "|2018-01-22 00:00:00|0.9995999199839968|\n",
      "|2018-01-19 00:00:00|0.9993998799759952|\n",
      "|2018-01-18 00:00:00| 0.998999799959992|\n",
      "|2018-01-18 00:00:00| 0.998999799959992|\n",
      "|2018-01-17 00:00:00|0.9985997199439888|\n",
      "|2018-01-17 00:00:00|0.9985997199439888|\n",
      "|2018-01-16 00:00:00| 0.997999599919984|\n",
      "|2018-01-16 00:00:00| 0.997999599919984|\n",
      "|2018-01-16 00:00:00| 0.997999599919984|\n",
      "|2018-01-15 00:00:00|0.9975995199039808|\n",
      "|2018-01-15 00:00:00|0.9975995199039808|\n",
      "|2018-01-12 00:00:00|0.9973994798959792|\n",
      "|2018-01-10 00:00:00| 0.996999399879976|\n",
      "+-------------------+------------------+\n",
      "only showing top 15 rows\n",
      "\n",
      "+-------------------+--------------------+\n",
      "|      OFFMARKETDATE|                rank|\n",
      "+-------------------+--------------------+\n",
      "|2017-02-24 00:00:00|                 0.0|\n",
      "|2017-02-25 00:00:00|2.000400080016003...|\n",
      "|2017-02-27 00:00:00|4.000800160032006...|\n",
      "|2017-02-28 00:00:00| 6.00120024004801E-4|\n",
      "|2017-03-02 00:00:00|8.001600320064013E-4|\n",
      "|2017-03-02 00:00:00|8.001600320064013E-4|\n",
      "|2017-03-03 00:00:00|0.001200240048009602|\n",
      "|2017-03-03 00:00:00|0.001200240048009602|\n",
      "|2017-03-03 00:00:00|0.001200240048009602|\n",
      "|2017-03-03 00:00:00|0.001200240048009602|\n",
      "|2017-03-03 00:00:00|0.001200240048009602|\n",
      "|2017-03-03 00:00:00|0.001200240048009602|\n",
      "|2017-03-04 00:00:00|0.002400480096019204|\n",
      "|2017-03-04 00:00:00|0.002400480096019204|\n",
      "|2017-03-05 00:00:00|0.002800560112022...|\n",
      "+-------------------+--------------------+\n",
      "only showing top 15 rows\n",
      "\n"
     ]
    }
   ],
   "source": [
    "# We might be more concerned to simply create an 80/20 split\n",
    "# based on the dates present in the available data. We'll \n",
    "# take that approach here. This approach takes the most \n",
    "# recent 20% of days in the test split. \n",
    "\n",
    "# First step is to create a column to rank the dates that homes were \n",
    "# taken off the market\n",
    "from pyspark.sql.functions import percent_rank\n",
    "from pyspark.sql import Window\n",
    "\n",
    "df = df.withColumn(\"rank\", percent_rank().over(Window.partitionBy().orderBy(\"OFFMARKETDATE\")))\n",
    "\n",
    "# Now we can use that rank to split into a train/test\n",
    "# Here we want the test set to be the most recent days, \n",
    "# so rank will be greater than 80%\n",
    "test_df = df.where(\"rank >= .8\").drop(\"rank\")\n",
    "train_df = df.where(\"rank < .8\").drop(\"rank\")\n",
    "\n",
    "# Just to see how the rank approach taken above works\n",
    "df[['OFFMARKETDATE', 'rank']].sort(col('rank').desc()).show(15)\n",
    "df[['OFFMARKETDATE', 'rank']].sort(col('rank')).show(15)"
   ]
  },
  {
   "cell_type": "code",
   "execution_count": 154,
   "metadata": {},
   "outputs": [
    {
     "name": "stdout",
     "output_type": "stream",
     "text": [
      "Train df:\n",
      "+-------------------+\n",
      "|      OFFMARKETDATE|\n",
      "+-------------------+\n",
      "|2017-02-24 00:00:00|\n",
      "|2017-02-25 00:00:00|\n",
      "|2017-02-27 00:00:00|\n",
      "|2017-02-28 00:00:00|\n",
      "|2017-03-02 00:00:00|\n",
      "|2017-03-02 00:00:00|\n",
      "|2017-03-03 00:00:00|\n",
      "|2017-03-03 00:00:00|\n",
      "|2017-03-03 00:00:00|\n",
      "|2017-03-03 00:00:00|\n",
      "+-------------------+\n",
      "only showing top 10 rows\n",
      "\n",
      "2017-02-24 00:00:00\n",
      "2017-10-09 00:00:00\n",
      "\n",
      "Test df:\n",
      "+-------------------+\n",
      "|      OFFMARKETDATE|\n",
      "+-------------------+\n",
      "|2017-10-10 00:00:00|\n",
      "|2017-10-10 00:00:00|\n",
      "|2017-10-10 00:00:00|\n",
      "|2017-10-10 00:00:00|\n",
      "|2017-10-10 00:00:00|\n",
      "|2017-10-10 00:00:00|\n",
      "|2017-10-10 00:00:00|\n",
      "|2017-10-10 00:00:00|\n",
      "|2017-10-10 00:00:00|\n",
      "|2017-10-10 00:00:00|\n",
      "+-------------------+\n",
      "only showing top 10 rows\n",
      "\n",
      "2017-10-10 00:00:00\n",
      "2018-01-24 00:00:00\n"
     ]
    }
   ],
   "source": [
    "# Here are the dates from the train/test sorted by recency\n",
    "print('Train df:')\n",
    "train_df[['OFFMARKETDATE']].sort(col('OFFMARKETDATE')).show(10)\n",
    "print(train_df.agg({'OFFMARKETDATE': 'min'}).collect()[0][0])\n",
    "print(train_df.agg({'OFFMARKETDATE': 'max'}).collect()[0][0])\n",
    "\n",
    "print('')\n",
    "print('Test df:')\n",
    "test_df[['OFFMARKETDATE']].sort(col('OFFMARKETDATE')).show(10)\n",
    "print(test_df.agg({'OFFMARKETDATE': 'min'}).collect()[0][0])\n",
    "print(test_df.agg({'OFFMARKETDATE': 'max'}).collect()[0][0])"
   ]
  },
  {
   "cell_type": "markdown",
   "metadata": {},
   "source": [
    "### Adjusting the time feature to reflect known information\n",
    "Leaking information to your model during training can be dangerous. Data leakage will cause your model to have very optimistic metrics for accuracy but once real data is run through it the results are often very disappointing. \n",
    "\n",
    "In the chunk below, we are going to ensure that DAYSONMARKET only reflects known information at the time of predicting the value. I.e., if the house is still on the market, we don't know how many more days it will stay on the market. We need to adjust our test_df to reflect what information we currently have as of 2017-10-10.\n",
    "\n",
    "This is necessary because the number of days that a house has been listed on the market is most definitely going to have an impact on its final price (and therefore be a sensitive feature for our model). Homes that get snatched up quickly are more likely to be priced and sold at or above market rates while homes that linger on the market are likely to see price reductions and go for below market rates once they finally get sold. \n"
   ]
  },
  {
   "cell_type": "code",
   "execution_count": 38,
   "metadata": {},
   "outputs": [
    {
     "name": "stdout",
     "output_type": "stream",
     "text": [
      "+-------------------+-------------------+---------------------+------------+\n",
      "|           LISTDATE|      OFFMARKETDATE|DAYSONMARKET_Original|DAYSONMARKET|\n",
      "+-------------------+-------------------+---------------------+------------+\n",
      "|2017-10-10 00:00:00|2017-10-24 00:00:00|                    2|           0|\n",
      "|2017-10-10 00:00:00|2017-10-10 00:00:00|                    0|           0|\n",
      "|2017-10-10 00:00:00|2017-11-10 00:00:00|                   31|           0|\n",
      "|2017-10-10 00:00:00|2017-11-09 00:00:00|                   30|           0|\n",
      "|2017-10-10 00:00:00|2017-11-14 00:00:00|                   19|           0|\n",
      "|2017-10-10 00:00:00|2017-10-16 00:00:00|                    6|           0|\n",
      "|2017-10-10 00:00:00|2017-10-16 00:00:00|                    5|           0|\n",
      "|2017-10-10 00:00:00|2017-11-18 00:00:00|                   39|           0|\n",
      "|2017-10-09 00:00:00|2017-10-30 00:00:00|                   21|           1|\n",
      "|2017-10-09 00:00:00|2017-11-22 00:00:00|                   22|           1|\n",
      "|2017-10-09 00:00:00|2017-10-20 00:00:00|                   11|           1|\n",
      "|2017-10-09 00:00:00|2017-11-02 00:00:00|                   24|           1|\n",
      "|2017-10-09 00:00:00|2017-10-25 00:00:00|                    3|           1|\n",
      "|2017-10-09 00:00:00|2017-11-20 00:00:00|                   42|           1|\n",
      "|2017-10-09 00:00:00|2017-10-13 00:00:00|                    4|           1|\n",
      "|2017-10-09 00:00:00|2017-12-08 00:00:00|                   60|           1|\n",
      "|2017-10-09 00:00:00|2017-11-29 00:00:00|                   51|           1|\n",
      "|2017-10-09 00:00:00|2017-12-06 00:00:00|                   52|           1|\n",
      "|2017-10-09 00:00:00|2017-11-06 00:00:00|                   28|           1|\n",
      "|2017-10-08 00:00:00|2017-10-16 00:00:00|                    8|           2|\n",
      "+-------------------+-------------------+---------------------+------------+\n",
      "only showing top 20 rows\n",
      "\n"
     ]
    }
   ],
   "source": [
    "from pyspark.sql.functions import datediff, to_date, lit\n",
    "\n",
    "split_date = to_date(lit('2017-10-10')) # earliest date in the 80/20 train/test split\n",
    "# Create Sequential Test set - to simulate 'real world' data where the off market date is unknown\n",
    "# After all, what use is a home price prediction model for homes that have already been sold?\n",
    "test_df = df.where(df['OFFMARKETDATE'] >= split_date).where(df['LISTDATE'] <= split_date)\n",
    "\n",
    "# Create a copy of DAYSONMARKET to review later\n",
    "test_df = test_df.withColumn('DAYSONMARKET_Original', test_df['DAYSONMARKET'])\n",
    "\n",
    "# Recalculate DAYSONMARKET from what we know on our split date - '2017-10-10'\n",
    "# I.e. we cannot allow our model to peer into the future and know when properties\n",
    "# will go off market when testing the model against simulated 'real-world' data\n",
    "test_df = test_df.withColumn('DAYSONMARKET', datediff(split_date, 'LISTDATE'))\n",
    "\n",
    "# Review the difference\n",
    "test_df[['LISTDATE', 'OFFMARKETDATE', 'DAYSONMARKET_Original', 'DAYSONMARKET']]\\\n",
    "                                                            .sort(col('LISTDATE').desc()).show()\n",
    "\n"
   ]
  },
  {
   "cell_type": "markdown",
   "metadata": {},
   "source": [
    "# Final considerations before running a PySpark ML model\n",
    "\n",
    "After doing a lot of feature engineering it's a good idea to take a step back and look at what you've created. If you've used some automation techniques on your categorical features like exploding or OneHot Encoding you may find that you now have hundreds of new binary features. While the subject of feature selection is material for a whole other guide, there are some quick steps you can take to reduce the dimensionality of your data set.\n",
    "\n",
    "We'll start by dropping columns with less than 30 observations. Why 30? Well, 30 is a common minimum number of observations for statistical significance. Any less than that and the relationships can cause overfitting because of a sheer coincidence!"
   ]
  },
  {
   "cell_type": "markdown",
   "metadata": {},
   "source": [
    "## Think about bringing in external data\n",
    "External data can often be the difference between a good model and a great model. For home sales price, it might be worthwhile to consider data such as mortgage rates, the walk/bike score of a house, the potential for solar panels or geothermal heating, seasonal indicators such as bank holidays or considerations of the time of the year that a home is listed (e.g. changes from mean/median home value for a given month/quarter/season compared to the entire year), etc."
   ]
  },
  {
   "cell_type": "markdown",
   "metadata": {},
   "source": [
    "## Make sure your data fulfill the chosen models assumptions\n",
    "This is a no brainer, but bares repeating - if the model you choose to use comes with assumptions, run some tests to ensure your data satisfy those assumptions."
   ]
  },
  {
   "cell_type": "markdown",
   "metadata": {},
   "source": [
    "## PySpark ML vectors\n",
    "Just to add one extra layer of complexity when using Spark, the PySpark machine learning algorithms require all features to be provided in a single column as a vector. Luckily, there is a fit/transform function provided to handle that, but it can also affect whether or not your features are truly ready for modeling. For example, while random forest regression can handle missing values, vectors cannot - so we need to assign missings/NaNs to a value outside the range of the values in the feature such that those observations can still be included but satisfy requirements for vectorization of all of the columns into one. \n",
    "\n",
    "For our running example, most columns are strings which are not supported by vectors. Since the focus of this guide is on feature engineering and not modeling, per se, those features will simply be dropped. "
   ]
  },
  {
   "cell_type": "markdown",
   "metadata": {},
   "source": [
    "### First, remove features based on missing value threshold \n",
    "This is for binary (0/1) features. \n",
    "\n",
    "**The code chunk below is commented out because it will simply throw an error - I did not include all of the binary features into the df**"
   ]
  },
  {
   "cell_type": "code",
   "execution_count": 165,
   "metadata": {},
   "outputs": [],
   "source": [
    "## If you end up with a bunch of binary features, you can make sure to include only\n",
    "#  those that have at least 30 positive values (e.g. 1's) with the code below\n",
    "\n",
    "#obs_threshold = 30\n",
    "#cols_to_remove = list()\n",
    "\n",
    "# Inspect first 10 binary columns in list\n",
    "#for col in binary_cols[0:10]:\n",
    "  # Count the number of 1 values in the binary column\n",
    "#  obs_count = df.agg({col: 'sum'}).collect()[0][0]\n",
    "  # If less than our observation threshold, remove\n",
    "#  if obs_count < obs_threshold:\n",
    "#    cols_to_remove.append(col)\n",
    "    \n",
    "# Drop columns and print starting and ending dataframe shapes\n",
    "#new_df = df.drop(*cols_to_remove)\n"
   ]
  },
  {
   "cell_type": "markdown",
   "metadata": {},
   "source": [
    "### Prep data for vectorization"
   ]
  },
  {
   "cell_type": "code",
   "execution_count": 45,
   "metadata": {},
   "outputs": [],
   "source": [
    "# Replace missing values\n",
    "train_df = train_df.fillna(-1)\n",
    "test_df = test_df.fillna(-1)\n",
    "\n",
    "# Have to naively remove all string columns for the vectorizer\n",
    "string_cols = []\n",
    "for col in range(1, len(train_df.columns)):\n",
    "    if train_df.dtypes[col][1] == 'string':\n",
    "        string_cols.append(train_df.dtypes[col][0])\n",
    "        \n",
    "train_df_for_vec = train_df.drop(*string_cols)\n",
    "train_df_for_vec = train_df_for_vec.drop(*['LISTDATE', 'OFFMARKETDATE', 'MLSID', 'garage_list'])\n",
    "\n",
    "test_df_for_vec = test_df.drop(*string_cols)\n",
    "test_df_for_vec = test_df_for_vec.drop(*['LISTDATE', 'OFFMARKETDATE', 'MLSID', 'garage_list'])\n",
    "\n",
    "# Define columns to be converted to vectors for model\n",
    "feature_cols = list(train_df_for_vec.columns)\n",
    "\n",
    "# Remove the dependent variable from the list\n",
    "feature_cols.remove('SalesClosePrice')\n"
   ]
  },
  {
   "cell_type": "markdown",
   "metadata": {},
   "source": [
    "### Turn all features into a single feature vector"
   ]
  },
  {
   "cell_type": "code",
   "execution_count": 46,
   "metadata": {},
   "outputs": [],
   "source": [
    "from pyspark.ml.feature import VectorAssembler\n",
    "\n",
    "# Create the vector assembler transformer\n",
    "vec = VectorAssembler(inputCols=feature_cols, outputCol='features')\n",
    "\n",
    "# Apply the vector transformer to data\n",
    "train_df_vec = vec.transform(train_df_for_vec)\n",
    "test_df_vec = vec.transform(test_df_for_vec)\n"
   ]
  },
  {
   "cell_type": "markdown",
   "metadata": {},
   "source": [
    "## Train some regression models"
   ]
  },
  {
   "cell_type": "code",
   "execution_count": 48,
   "metadata": {},
   "outputs": [
    {
     "name": "stdout",
     "output_type": "stream",
     "text": [
      "+------------------+---------------+\n",
      "|  Prediction_Price|SalesClosePrice|\n",
      "+------------------+---------------+\n",
      "|200064.17863979764|         190000|\n",
      "| 267789.1532757745|         250000|\n",
      "|274747.16859125346|         274000|\n",
      "| 350237.4690231982|         320000|\n",
      "|326718.95128213754|         310000|\n",
      "+------------------+---------------+\n",
      "only showing top 5 rows\n",
      "\n"
     ]
    }
   ],
   "source": [
    "from pyspark.ml.regression import GBTRegressor\n",
    "\n",
    "# Train a Gradient Boosted Trees (GBT) model.\n",
    "gbt = GBTRegressor(featuresCol='features',\n",
    "                           labelCol='SalesClosePrice',\n",
    "                           predictionCol=\"Prediction_Price\",\n",
    "                           seed=42\n",
    "                           )\n",
    "\n",
    "# Train model.\n",
    "gbt_model = gbt.fit(train_df_vec)\n",
    "\n",
    "# Make predictions\n",
    "gbt_predictions = gbt_model.transform(test_df_vec)\n",
    "\n",
    "# Assess predictions\n",
    "gbt_predictions.select('Prediction_Price', 'SalesClosePrice').show(5)\n"
   ]
  },
  {
   "cell_type": "code",
   "execution_count": 50,
   "metadata": {},
   "outputs": [
    {
     "name": "stdout",
     "output_type": "stream",
     "text": [
      "+------------------+---------------+\n",
      "|  Prediction_Price|SalesClosePrice|\n",
      "+------------------+---------------+\n",
      "|203643.89173661213|         190000|\n",
      "| 270906.7434306916|         250000|\n",
      "|284488.24882548803|         274000|\n",
      "|348668.85719998047|         320000|\n",
      "|  315460.066171456|         310000|\n",
      "+------------------+---------------+\n",
      "only showing top 5 rows\n",
      "\n"
     ]
    }
   ],
   "source": [
    "from pyspark.ml.regression import RandomForestRegressor\n",
    "\n",
    "# Train a Gradient Boosted Trees (GBT) model.\n",
    "rf = RandomForestRegressor(featuresCol='features',\n",
    "                           labelCol='SalesClosePrice',\n",
    "                           predictionCol=\"Prediction_Price\",\n",
    "                           seed=42\n",
    "                           )\n",
    "\n",
    "# Train model.\n",
    "rf_model = rf.fit(train_df_vec)\n",
    "\n",
    "# Make predictions\n",
    "rf_predictions = rf_model.transform(test_df_vec)\n",
    "\n",
    "# Assess predictions\n",
    "rf_predictions.select('Prediction_Price', 'SalesClosePrice').show(5)"
   ]
  },
  {
   "cell_type": "markdown",
   "metadata": {},
   "source": [
    "### Model evaluation\n",
    "\n",
    "Even though this is a guide about feature engineering, I actually incorporated very minimal feature engineering into the final data fed into the regression models. Nevertheless, and perhaps surprisingly, the models both tend to perform quite well right out of the box. Depending on the business context, these models might be sufficient, but certainly the methods described above would be able to push model performance much higher. "
   ]
  },
  {
   "cell_type": "code",
   "execution_count": 51,
   "metadata": {},
   "outputs": [
    {
     "name": "stdout",
     "output_type": "stream",
     "text": [
      "Gradient Boosted Trees RMSE: 33509.25873801832\n",
      "Gradient Boosted Trees R^2: 0.9466520217164376\n",
      "Random Forest Regression RMSE: 39370.46026904813\n",
      "Random Forest Regression R^2: 0.9263573669514751\n"
     ]
    }
   ],
   "source": [
    "from pyspark.ml.evaluation import RegressionEvaluator\n",
    "\n",
    "# Select columns to compute test error\n",
    "evaluator = RegressionEvaluator(labelCol='SalesClosePrice', \n",
    "                                predictionCol='Prediction_Price')\n",
    "# Dictionary of model predictions to loop over\n",
    "models = {'Gradient Boosted Trees': gbt_predictions, 'Random Forest Regression': rf_predictions}\n",
    "for key, preds in models.items():\n",
    "  # Create evaluation metrics\n",
    "  rmse = evaluator.evaluate(preds, {evaluator.metricName: 'rmse'})\n",
    "  r2 = evaluator.evaluate(preds, {evaluator.metricName: 'r2'})\n",
    "  \n",
    "  # Print Model Metrics\n",
    "  print(key + ' RMSE: ' + str(rmse))\n",
    "  print(key + ' R^2: ' + str(r2))"
   ]
  },
  {
   "cell_type": "code",
   "execution_count": 52,
   "metadata": {},
   "outputs": [],
   "source": [
    "# Convert feature importances to a pandas column - no need to use Spark with such small dataframes\n",
    "gbt_fi_df = pd.DataFrame(gbt_model.featureImportances.toArray(), columns=['importance'])\n",
    "rf_fi_df = pd.DataFrame(rf_model.featureImportances.toArray(), columns=['importance'])"
   ]
  },
  {
   "cell_type": "code",
   "execution_count": 56,
   "metadata": {},
   "outputs": [
    {
     "data": {
      "text/html": [
       "<div>\n",
       "<style scoped>\n",
       "    .dataframe tbody tr th:only-of-type {\n",
       "        vertical-align: middle;\n",
       "    }\n",
       "\n",
       "    .dataframe tbody tr th {\n",
       "        vertical-align: top;\n",
       "    }\n",
       "\n",
       "    .dataframe thead th {\n",
       "        text-align: right;\n",
       "    }\n",
       "</style>\n",
       "<table border=\"1\" class=\"dataframe\">\n",
       "  <thead>\n",
       "    <tr style=\"text-align: right;\">\n",
       "      <th></th>\n",
       "      <th>importance</th>\n",
       "      <th>feature</th>\n",
       "    </tr>\n",
       "  </thead>\n",
       "  <tbody>\n",
       "    <tr>\n",
       "      <th>2</th>\n",
       "      <td>0.194839</td>\n",
       "      <td>LISTPRICE</td>\n",
       "    </tr>\n",
       "    <tr>\n",
       "      <th>4</th>\n",
       "      <td>0.165866</td>\n",
       "      <td>PricePerTSFT</td>\n",
       "    </tr>\n",
       "    <tr>\n",
       "      <th>13</th>\n",
       "      <td>0.068827</td>\n",
       "      <td>LivingArea</td>\n",
       "    </tr>\n",
       "    <tr>\n",
       "      <th>0</th>\n",
       "      <td>0.066356</td>\n",
       "      <td>StreetNumberNumeric</td>\n",
       "    </tr>\n",
       "    <tr>\n",
       "      <th>6</th>\n",
       "      <td>0.064894</td>\n",
       "      <td>DAYSONMARKET</td>\n",
       "    </tr>\n",
       "    <tr>\n",
       "      <th>9</th>\n",
       "      <td>0.058507</td>\n",
       "      <td>SQFTABOVEGROUND</td>\n",
       "    </tr>\n",
       "    <tr>\n",
       "      <th>10</th>\n",
       "      <td>0.045820</td>\n",
       "      <td>Taxes</td>\n",
       "    </tr>\n",
       "    <tr>\n",
       "      <th>14</th>\n",
       "      <td>0.042792</td>\n",
       "      <td>YEARBUILT</td>\n",
       "    </tr>\n",
       "    <tr>\n",
       "      <th>22</th>\n",
       "      <td>0.038229</td>\n",
       "      <td>Bedrooms</td>\n",
       "    </tr>\n",
       "    <tr>\n",
       "      <th>8</th>\n",
       "      <td>0.035324</td>\n",
       "      <td>PDOM</td>\n",
       "    </tr>\n",
       "  </tbody>\n",
       "</table>\n",
       "</div>"
      ],
      "text/plain": [
       "    importance              feature\n",
       "2     0.194839            LISTPRICE\n",
       "4     0.165866         PricePerTSFT\n",
       "13    0.068827           LivingArea\n",
       "0     0.066356  StreetNumberNumeric\n",
       "6     0.064894         DAYSONMARKET\n",
       "9     0.058507      SQFTABOVEGROUND\n",
       "10    0.045820                Taxes\n",
       "14    0.042792            YEARBUILT\n",
       "22    0.038229             Bedrooms\n",
       "8     0.035324                 PDOM"
      ]
     },
     "execution_count": 56,
     "metadata": {},
     "output_type": "execute_result"
    }
   ],
   "source": [
    "# Convert list of feature names to pandas column\n",
    "gbt_fi_df['feature'] = pd.Series(feature_cols)\n",
    "\n",
    "# Sort the data based on feature importance\n",
    "gbt_fi_df.sort_values(by=['importance'], ascending=False, inplace=True)\n",
    "\n",
    "# Inspect Results\n",
    "gbt_fi_df.head(10)"
   ]
  },
  {
   "cell_type": "code",
   "execution_count": 57,
   "metadata": {},
   "outputs": [
    {
     "data": {
      "text/html": [
       "<div>\n",
       "<style scoped>\n",
       "    .dataframe tbody tr th:only-of-type {\n",
       "        vertical-align: middle;\n",
       "    }\n",
       "\n",
       "    .dataframe tbody tr th {\n",
       "        vertical-align: top;\n",
       "    }\n",
       "\n",
       "    .dataframe thead th {\n",
       "        text-align: right;\n",
       "    }\n",
       "</style>\n",
       "<table border=\"1\" class=\"dataframe\">\n",
       "  <thead>\n",
       "    <tr style=\"text-align: right;\">\n",
       "      <th></th>\n",
       "      <th>importance</th>\n",
       "      <th>feature</th>\n",
       "    </tr>\n",
       "  </thead>\n",
       "  <tbody>\n",
       "    <tr>\n",
       "      <th>2</th>\n",
       "      <td>0.410351</td>\n",
       "      <td>LISTPRICE</td>\n",
       "    </tr>\n",
       "    <tr>\n",
       "      <th>3</th>\n",
       "      <td>0.236229</td>\n",
       "      <td>OriginalListPrice</td>\n",
       "    </tr>\n",
       "    <tr>\n",
       "      <th>13</th>\n",
       "      <td>0.069113</td>\n",
       "      <td>LivingArea</td>\n",
       "    </tr>\n",
       "    <tr>\n",
       "      <th>10</th>\n",
       "      <td>0.061274</td>\n",
       "      <td>Taxes</td>\n",
       "    </tr>\n",
       "    <tr>\n",
       "      <th>9</th>\n",
       "      <td>0.054791</td>\n",
       "      <td>SQFTABOVEGROUND</td>\n",
       "    </tr>\n",
       "    <tr>\n",
       "      <th>21</th>\n",
       "      <td>0.042708</td>\n",
       "      <td>BATHSTOTAL</td>\n",
       "    </tr>\n",
       "    <tr>\n",
       "      <th>4</th>\n",
       "      <td>0.036593</td>\n",
       "      <td>PricePerTSFT</td>\n",
       "    </tr>\n",
       "    <tr>\n",
       "      <th>11</th>\n",
       "      <td>0.034550</td>\n",
       "      <td>TAXWITHASSESSMENTS</td>\n",
       "    </tr>\n",
       "    <tr>\n",
       "      <th>7</th>\n",
       "      <td>0.017485</td>\n",
       "      <td>Fireplaces</td>\n",
       "    </tr>\n",
       "    <tr>\n",
       "      <th>22</th>\n",
       "      <td>0.007584</td>\n",
       "      <td>Bedrooms</td>\n",
       "    </tr>\n",
       "  </tbody>\n",
       "</table>\n",
       "</div>"
      ],
      "text/plain": [
       "    importance             feature\n",
       "2     0.410351           LISTPRICE\n",
       "3     0.236229   OriginalListPrice\n",
       "13    0.069113          LivingArea\n",
       "10    0.061274               Taxes\n",
       "9     0.054791     SQFTABOVEGROUND\n",
       "21    0.042708          BATHSTOTAL\n",
       "4     0.036593        PricePerTSFT\n",
       "11    0.034550  TAXWITHASSESSMENTS\n",
       "7     0.017485          Fireplaces\n",
       "22    0.007584            Bedrooms"
      ]
     },
     "execution_count": 57,
     "metadata": {},
     "output_type": "execute_result"
    }
   ],
   "source": [
    "# Convert list of feature names to pandas column\n",
    "rf_fi_df['feature'] = pd.Series(feature_cols)\n",
    "\n",
    "# Sort the data based on feature importance\n",
    "rf_fi_df.sort_values(by=['importance'], ascending=False, inplace=True)\n",
    "\n",
    "# Inspect Results\n",
    "rf_fi_df.head(10)"
   ]
  },
  {
   "cell_type": "markdown",
   "metadata": {},
   "source": [
    "## Save and load models"
   ]
  },
  {
   "cell_type": "code",
   "execution_count": 58,
   "metadata": {},
   "outputs": [],
   "source": [
    "# Save the models \n",
    "gbt_model.save('house_price_regression_gbt_model')\n",
    "rf_model.save('house_price_regression_rf_model')\n"
   ]
  },
  {
   "cell_type": "code",
   "execution_count": 66,
   "metadata": {},
   "outputs": [],
   "source": [
    "from pyspark.ml.regression import RandomForestRegressionModel\n",
    "\n",
    "# Load the model\n",
    "rf_model_loaded = RandomForestRegressionModel.load('house_price_regression_rf_model')"
   ]
  },
  {
   "cell_type": "code",
   "execution_count": null,
   "metadata": {},
   "outputs": [],
   "source": []
  }
 ],
 "metadata": {
  "kernelspec": {
   "display_name": "Python 3",
   "language": "python",
   "name": "python3"
  },
  "language_info": {
   "codemirror_mode": {
    "name": "ipython",
    "version": 3
   },
   "file_extension": ".py",
   "mimetype": "text/x-python",
   "name": "python",
   "nbconvert_exporter": "python",
   "pygments_lexer": "ipython3",
   "version": "3.6.5"
  }
 },
 "nbformat": 4,
 "nbformat_minor": 2
}
